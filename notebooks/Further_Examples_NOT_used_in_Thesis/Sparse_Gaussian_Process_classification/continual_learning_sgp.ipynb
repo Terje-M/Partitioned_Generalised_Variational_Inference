{
 "cells": [
  {
   "cell_type": "markdown",
   "id": "fatal-monaco",
   "metadata": {},
   "source": [
    "# Continual learning for SGP demo\n",
    "Here we demonstrate the use of performance of continual learning for sparse Gaussian processes on the banana classification dataset, available at https://www.kaggle.com/saranchandar/standard-classification-banana-dataset."
   ]
  },
  {
   "cell_type": "code",
   "execution_count": 4,
   "id": "imposed-management",
   "metadata": {},
   "outputs": [
    {
     "name": "stdout",
     "output_type": "stream",
     "text": [
      "The autoreload extension is already loaded. To reload it, use:\n",
      "  %reload_ext autoreload\n"
     ]
    }
   ],
   "source": [
    "%load_ext autoreload\n",
    "%autoreload 2\n",
    "\n",
    "import os\n",
    "import sys\n",
    "import logging\n",
    "\n",
    "module_path = os.path.abspath(os.path.join(\"../../..\"))\n",
    "if module_path not in sys.path:\n",
    "    sys.path.append(module_path)"
   ]
  },
  {
   "cell_type": "code",
   "execution_count": 5,
   "id": "decimal-acoustic",
   "metadata": {},
   "outputs": [],
   "source": [
    "from pvi.models.sgp.sgp import SparseGaussianProcessClassification\n",
    "from pvi.distributions.gp_distributions import \\\n",
    "    MultivariateGaussianDistributionWithZ, MultivariateGaussianFactorWithZ\n",
    "#Not actually defined try instead\n",
    "#from pvi.clients.streaming_sgp_client import StreamingSGPClient\n",
    "from pvi.clients.continual_learning_sgp import ContinualLearningSGPClient\n",
    "from pvi.servers.continual_learning_server import ContinualLearningServer\n",
    "\n",
    "import torch\n",
    "import numpy as np\n",
    "import matplotlib.pyplot as plt\n",
    "import tqdm.auto as tqdm\n",
    "import gpytorch\n",
    "\n",
    "from torch import nn\n",
    "from gpytorch.kernels import ScaleKernel, RBFKernel\n",
    "\n",
    "\n",
    "%matplotlib inline\n",
    "torch.set_default_dtype(torch.float64)"
   ]
  },
  {
   "cell_type": "markdown",
   "id": "closing-transcription",
   "metadata": {},
   "source": [
    "### Set up data and helper functions"
   ]
  },
  {
   "cell_type": "code",
   "execution_count": 6,
   "id": "b0ce7a14",
   "metadata": {},
   "outputs": [],
   "source": [
    "# Definitions of the different types of plots\n",
    "def plot_data(x, y, ax=None):\n",
    "    x1_min, x1_max = -3.5, 3.\n",
    "    x2_min, x2_max = -3., 3.5\n",
    "    \n",
    "    x1x1, x2x2 = np.meshgrid(np.linspace(x1_min, x1_max, 100), \n",
    "                             np.linspace(x2_min, x2_max, 100))\n",
    "    \n",
    "    if ax is None:\n",
    "        plt.figure(figsize=(8, 6), dpi=200)\n",
    "        plt.xlim(x1x1.min(), x1x1.max())\n",
    "        plt.ylim(x2x2.min(), x2x2.max())\n",
    "        ax = plt.gca()\n",
    "    \n",
    "    ax.plot(x[y == 0, 0], x[y == 0, 1], \"o\", color=\"C1\", label=\"Class 1\", alpha=.5)\n",
    "    ax.plot(x[y == 1, 0], x[y == 1, 1], \"o\", color=\"C0\", label=\"Class 2\", alpha=.5)\n",
    "    \n",
    "    ax.set_xlabel(\"x1\")\n",
    "    ax.set_ylabel(\"x2\")\n",
    "    ax.legend(loc=\"upper left\", scatterpoints=1, numpoints=1)\n",
    "    \n",
    "    return x1x1, x2x2\n",
    "\n",
    "def plot_predictive_distribution(x, y, z, model, q, ax=None, x_old=None, y_old=None, z_old=None):\n",
    "    x1x1, x2x2 = plot_data(x, y, ax)\n",
    "    \n",
    "    if ax is None:\n",
    "        ax = plt.gca()\n",
    "    \n",
    "    x_predict = np.concatenate((x1x1.ravel().reshape(-1, 1), \n",
    "                                x2x2.ravel().reshape(-1, 1)), 1)\n",
    "    \n",
    "    y_predict = model(torch.tensor(x_predict), q=q, diag=True)\n",
    "    y_predict = y_predict.mean.detach().numpy().reshape(x1x1.shape)\n",
    "    \n",
    "    cs2 = ax.contour(x1x1, x2x2, y_predict, colors=[\"k\"],  levels=[0.2, 0.5, 0.8])#linewidth=2,\n",
    "    ax.clabel(cs2, fmt=\"%2.1f\", colors=\"k\", fontsize=14)\n",
    "        \n",
    "    ax.scatter(z[:, 0], z[:, 1], color=\"r\", marker=\"s\")\n",
    "    \n",
    "    if x_old is not None:\n",
    "        ax.plot(x_old[y_old == 0, 0], x_old[y_old == 0, 1], \"o\", color=\"C1\", label=\"Class 1\", alpha=.1)\n",
    "        ax.plot(x_old[y_old == 1, 0], x_old[y_old == 1, 1], \"o\", color=\"C0\", label=\"Class 2\", alpha=.1)\n",
    "        ax.scatter(z_old[:, 0], z_old[:, 1], color=\"r\", marker=\"o\")        \n",
    "        \n",
    "def plot_bayesian_predictive_distribution(x, y, z, model, q, qeps, ax=None, x_old=None, y_old=None, z_old=None, neps=10):\n",
    "    x1x1, x2x2 = plot_data(x, y, ax)\n",
    "    \n",
    "    if ax is None:\n",
    "        ax = plt.gca()\n",
    "    \n",
    "    x_predict = np.concatenate((x1x1.ravel().reshape(-1, 1), \n",
    "                                x2x2.ravel().reshape(-1, 1)), 1)\n",
    "    \n",
    "    preds = []\n",
    "    for _ in range(neps):\n",
    "        eps = qeps.sample()\n",
    "        model.hyperparameters = eps\n",
    "        pp = model(torch.tensor(x_predict), q, diag=True)\n",
    "        preds.append(pp.mean.detach().numpy())\n",
    "        \n",
    "    y_predict = (sum(preds) / len(preds)).reshape(x1x1.shape)\n",
    "    \n",
    "    cs2 = ax.contour(x1x1, x2x2, y_predict, colors=[\"k\"], lw=2, levels=[0.2, 0.5, 0.8])\n",
    "    ax.clabel(cs2, fmt=\"%2.1f\", colors=\"k\", fontsize=14)\n",
    "        \n",
    "    ax.scatter(z[:, 0], z[:, 1], color=\"r\", marker=\"s\")\n",
    "    \n",
    "    if x_old is not None:\n",
    "        ax.plot(x_old[y_old == 0, 0], x_old[y_old == 0, 1], \"o\", color=\"C1\", label=\"Class 1\", alpha=.1)\n",
    "        ax.plot(x_old[y_old == 1, 0], x_old[y_old == 1, 1], \"o\", color=\"C0\", label=\"Class 2\", alpha=.1)\n",
    "        ax.scatter(z_old[:, 0], z_old[:, 1], color=\"r\", marker=\"o\")\n",
    "    "
   ]
  },
  {
   "cell_type": "code",
   "execution_count": 7,
   "id": "round-contract",
   "metadata": {
    "jupyter": {
     "source_hidden": true
    },
    "tags": []
   },
   "outputs": [],
   "source": [
    "def load_data(name, train_proportion, data_base_dir):\n",
    "    filename = os.path.join(data_base_dir, name, \"banana.csv\")\n",
    "    data = np.loadtxt(filename, delimiter=\",\", skiprows=1)\n",
    "    \n",
    "    x = data[:, :2]\n",
    "    y = data[:, -1]\n",
    "    \n",
    "    # Replace 1's with 0's and 2's with 1's.\n",
    "    y[y == 1] = 0\n",
    "    y[y == -1] = 1\n",
    "    \n",
    "    N = x.shape[0]\n",
    "    N_train = int(np.ceil(train_proportion * N))\n",
    "    \n",
    "    x_train = x[0:N_train]\n",
    "    y_train = y[0:N_train]\n",
    "    x_test = x[N_train:]\n",
    "    y_test = y[N_train:]\n",
    "\n",
    "    training_set = {\n",
    "        \"x\": x_train,\n",
    "        \"y\": y_train,\n",
    "    }\n",
    "\n",
    "    test_set = {\n",
    "        \"x\": x_test,\n",
    "        \"y\": y_test\n",
    "    }\n",
    "\n",
    "    D = x_test.shape[1]\n",
    "\n",
    "    return training_set, test_set, D\n",
    "\n",
    "def generate_clients_data(x, y, M, client_size_factor, class_balance_factor, dataset_seed):\n",
    "        # this function ought to return a list of (x, y) tuples.\n",
    "        # you need to set the seed in the main experiment file to ensure that this function becomes deterministic\n",
    "\n",
    "        random_state = np.random.get_state()\n",
    "\n",
    "        if dataset_seed is not None:\n",
    "            np.random.seed(dataset_seed)\n",
    "\n",
    "        if M == 1:\n",
    "            client_data = [{\"x\": x, \"y\": y}]\n",
    "            N_is = [x.shape[0]]\n",
    "            props_positive = [np.mean(y > 0)]\n",
    "\n",
    "            return client_data, N_is, props_positive, M\n",
    "\n",
    "        if M % 2 != 0: raise ValueError('Num clients should be even for nice maths')\n",
    "\n",
    "        N = x.shape[0]\n",
    "        small_client_size = int(np.floor((1 - client_size_factor) * N/M))\n",
    "        big_client_size = int(np.floor((1 + client_size_factor) * N/M))\n",
    "\n",
    "        class_balance = np.mean(y == 0)\n",
    "\n",
    "        small_client_class_balance = class_balance + (1 - class_balance) * class_balance_factor\n",
    "        small_client_negative_class_size = int(np.floor(small_client_size * small_client_class_balance))\n",
    "        small_client_positive_class_size = int(small_client_size - small_client_negative_class_size)\n",
    "\n",
    "        if small_client_negative_class_size < 0: raise ValueError('small_client_negative_class_size is negative, invalid settings.')\n",
    "        if small_client_positive_class_size < 0: raise ValueError('small_client_positive_class_size is negative, invalid settings.')\n",
    "\n",
    "\n",
    "        if small_client_negative_class_size * M/2 > class_balance * N:\n",
    "            raise ValueError(f'Not enough negative class instances to fill the small clients. Client size factor:{client_size_factor}, class balance factor:{class_balance_factor}')\n",
    "\n",
    "        if small_client_positive_class_size * M/2 > (1-class_balance) * N:\n",
    "            raise ValueError(f'Not enough positive class instances to fill the small clients. Client size factor:{client_size_factor}, class balance factor:{class_balance_factor}')\n",
    "\n",
    "\n",
    "        pos_inds = np.where(y > 0)\n",
    "        zero_inds = np.where(y == 0)\n",
    "        \n",
    "        assert (len(pos_inds[0]) + len(zero_inds[0])) == len(y), \"Some indeces missed.\"\n",
    "        \n",
    "        print(f'x shape {x.shape}')\n",
    "        print(f'positive indices {pos_inds}')\n",
    "        print(f'zero indices {zero_inds}')\n",
    "\n",
    "        y_pos = y[pos_inds]\n",
    "        y_neg = y[zero_inds]\n",
    "\n",
    "        x_pos = x[pos_inds]\n",
    "        x_neg = x[zero_inds]\n",
    "\n",
    "        client_data = []\n",
    "\n",
    "        # Populate small classes.\n",
    "        for i in range(int(M/2)):\n",
    "            client_x_pos = x_pos[:small_client_positive_class_size]\n",
    "            x_pos = x_pos[small_client_positive_class_size:]\n",
    "            client_y_pos = y_pos[:small_client_positive_class_size]\n",
    "            y_pos = y_pos[small_client_positive_class_size:]\n",
    "\n",
    "            client_x_neg = x_neg[:small_client_negative_class_size]\n",
    "            x_neg = x_neg[small_client_negative_class_size:]\n",
    "            client_y_neg = y_neg[:small_client_negative_class_size]\n",
    "            y_neg = y_neg[small_client_negative_class_size:]\n",
    "\n",
    "            client_x = np.concatenate([client_x_pos, client_x_neg])\n",
    "            client_y = np.concatenate([client_y_pos, client_y_neg])\n",
    "\n",
    "            shuffle_inds = np.random.permutation(client_x.shape[0])\n",
    "\n",
    "            client_x = client_x[shuffle_inds, :]\n",
    "            client_y = client_y[shuffle_inds]\n",
    "\n",
    "            client_data.append({'x': client_x, 'y': client_y})\n",
    "\n",
    "        # Recombine remaining data and shuffle.\n",
    "\n",
    "        x = np.concatenate([x_pos, x_neg])\n",
    "        y = np.concatenate([y_pos, y_neg])\n",
    "        shuffle_inds = np.random.permutation(x.shape[0])\n",
    "\n",
    "        x = x[shuffle_inds]\n",
    "        y = y[shuffle_inds]\n",
    "\n",
    "        # Distribute among large clients.\n",
    "        for i in range(int(M/2)):\n",
    "            client_x = x[:big_client_size]\n",
    "            client_y = y[:big_client_size]\n",
    "\n",
    "            x = x[big_client_size:]\n",
    "            y = y[big_client_size:]\n",
    "\n",
    "            client_data.append({'x': client_x, 'y': client_y})\n",
    "\n",
    "        N_is = [data['x'].shape[0] for data in client_data]\n",
    "        props_positive = [np.mean(data['y'] > 0) for data in client_data]\n",
    "\n",
    "        np.random.set_state(random_state)\n",
    "\n",
    "        print(f'N_is {N_is}')\n",
    "        print(f'Props positive: {props_positive}')\n",
    "\n",
    "        return client_data, N_is, props_positive, M"
   ]
  },
  {
   "cell_type": "code",
   "execution_count": 8,
   "id": "legendary-winner",
   "metadata": {},
   "outputs": [],
   "source": [
    "name = \"banana\"\n",
    "data_base_dir = \"/Users/terjemildner/Desktop/PVI-main/data\"\n",
    "train_proportion = 0.8\n",
    "\n",
    "training_set, test_set, D = load_data(\n",
    "    name, train_proportion, data_base_dir)"
   ]
  },
  {
   "cell_type": "code",
   "execution_count": 9,
   "id": "earned-watts",
   "metadata": {},
   "outputs": [
    {
     "name": "stdout",
     "output_type": "stream",
     "text": [
      "x shape (4240, 2)\n",
      "positive indices (array([   0,    2,    6, ..., 4235, 4236, 4239]),)\n",
      "zero indices (array([   1,    3,    4, ..., 4233, 4237, 4238]),)\n",
      "N_is [1060, 1060, 1060, 1060]\n",
      "Props positive: [0.5547169811320755, 0.5547169811320755, 0.5518867924528302, 0.5556603773584906]\n"
     ]
    }
   ],
   "source": [
    "M = 4\n",
    "\n",
    "clients_data, nis, prop_positive, M = generate_clients_data(\n",
    "    training_set[\"x\"], \n",
    "    training_set[\"y\"],\n",
    "    M=M,\n",
    "    client_size_factor=0,\n",
    "    class_balance_factor=0,\n",
    "    dataset_seed=0,\n",
    ")"
   ]
  },
  {
   "cell_type": "markdown",
   "id": "rotary-thumb",
   "metadata": {},
   "source": [
    "### Set up clients"
   ]
  },
  {
   "cell_type": "code",
   "execution_count": 10,
   "id": "nutritional-bermuda",
   "metadata": {},
   "outputs": [
    {
     "name": "stdout",
     "output_type": "stream",
     "text": [
      "{'ard_num_dims': None, 'outputscale': 1.0, 'lengthscale': 1.0}\n",
      "{'ard_num_dims': None, 'outputscale': 1.0, 'lengthscale': 1.0}\n",
      "{'ard_num_dims': None, 'outputscale': 1.0, 'lengthscale': 1.0}\n",
      "{'ard_num_dims': None, 'outputscale': 1.0, 'lengthscale': 1.0}\n"
     ]
    }
   ],
   "source": [
    "clients = []\n",
    "num_inducing = 10\n",
    "\n",
    "# Shared across all clients.\n",
    "hyperparameters = {\n",
    "    \"D\": D,\n",
    "    \"num_inducing\": num_inducing,\n",
    "    \"kernel_class\": RBFKernel,\n",
    "    \"kernel_params\": {\"lengthscale\": .5},\n",
    "    \"optimiser\": \"Adam\",\n",
    "    \"optimiser_params\": {\"lr\": 5e-3},\n",
    "    \"epochs\": 50,\n",
    "    \"batch_size\": 100,\n",
    "    \"num_elbo_samples\": 100,\n",
    "    \"num_predictive_samples\": 100,\n",
    "}\n",
    "\n",
    "prior_nat_params = {\n",
    "    \"np1\": torch.zeros(hyperparameters[\"num_inducing\"]),\n",
    "    \"np2\": -0.5 * torch.ones(hyperparameters[\"num_inducing\"]).diag_embed(),\n",
    "}\n",
    "\n",
    "# Construct clients.\n",
    "for i in range(M):\n",
    "    model_i = SparseGaussianProcessClassification(hyperparameters=hyperparameters)\n",
    "    data_i = clients_data[i]\n",
    "    \n",
    "    # Convert to torch.tensor.\n",
    "    for k, v in data_i.items():\n",
    "        data_i[k] = torch.tensor(v)\n",
    "    \n",
    "    # Randomly initialise private inducing points.\n",
    "    perm = torch.randperm(len(data_i[\"x\"]))\n",
    "    idx = perm[:hyperparameters[\"num_inducing\"]]\n",
    "    z_i = data_i[\"x\"][idx].clone()\n",
    "    \n",
    "    #StreamingSGPClient not defined, so try instead: ContinualLearningSGPClient\n",
    "    #clients.append(StreamingSGPClient(data=data_i, model=model_i, inducing_locations=z_i))\n",
    "    clients.append(ContinualLearningSGPClient(data=data_i, model=model_i, inducing_locations=z_i))"
   ]
  },
  {
   "cell_type": "markdown",
   "id": "treated-omega",
   "metadata": {},
   "source": [
    "### Set up global model, approximate posterior and server."
   ]
  },
  {
   "cell_type": "code",
   "execution_count": 16,
   "id": "statistical-stephen",
   "metadata": {},
   "outputs": [
    {
     "name": "stdout",
     "output_type": "stream",
     "text": [
      "{'ard_num_dims': None, 'outputscale': 1.0, 'lengthscale': 1.0}\n"
     ]
    }
   ],
   "source": [
    "# Construct global model and server.\n",
    "model = SparseGaussianProcessClassification(hyperparameters=hyperparameters)\n",
    "\n",
    "q = MultivariateGaussianDistributionWithZ(\n",
    "    inducing_locations=None,\n",
    "    nat_params=prior_nat_params, \n",
    "    is_trainable=False\n",
    ")\n",
    "\n",
    "server = ContinualLearningServer(\n",
    "    model=model, \n",
    "    #previous shows 'q=q'? but base.__init__() shows args as self, models, p, clients\n",
    "    p=q, \n",
    "    clients=clients,\n",
    "    #hyperparameters={\n",
    "    #    \"max_iterations\": len(clients),\n",
    "    #}\n",
    ")"
   ]
  },
  {
   "cell_type": "markdown",
   "id": "incoming-raise",
   "metadata": {},
   "source": [
    "### Run continual learning for SGP!"
   ]
  },
  {
   "cell_type": "code",
   "execution_count": 17,
   "id": "grateful-mechanics",
   "metadata": {
    "scrolled": true
   },
   "outputs": [
    {
     "data": {
      "application/vnd.jupyter.widget-view+json": {
       "model_id": "73cc57931f334eff96d50d1336f7ded8",
       "version_major": 2,
       "version_minor": 0
      },
      "text/plain": [
       "Epochs:   0%|          | 0/1 [00:00<?, ?it/s]"
      ]
     },
     "metadata": {},
     "output_type": "display_data"
    },
    {
     "name": "stdout",
     "output_type": "stream",
     "text": [
      "0.9433962264150944\n"
     ]
    },
    {
     "data": {
      "application/vnd.jupyter.widget-view+json": {
       "model_id": "5f407072415b4b8f8dcf7a8564e1ba82",
       "version_major": 2,
       "version_minor": 0
      },
      "text/plain": [
       "Epochs:   0%|          | 0/1 [00:00<?, ?it/s]"
      ]
     },
     "metadata": {},
     "output_type": "display_data"
    },
    {
     "name": "stdout",
     "output_type": "stream",
     "text": [
      "0.9367924528301886\n"
     ]
    },
    {
     "data": {
      "application/vnd.jupyter.widget-view+json": {
       "model_id": "8239dd7355454328bbc01bdf966804f7",
       "version_major": 2,
       "version_minor": 0
      },
      "text/plain": [
       "Epochs:   0%|          | 0/1 [00:00<?, ?it/s]"
      ]
     },
     "metadata": {},
     "output_type": "display_data"
    },
    {
     "name": "stdout",
     "output_type": "stream",
     "text": [
      "0.9386792452830188\n"
     ]
    },
    {
     "data": {
      "application/vnd.jupyter.widget-view+json": {
       "model_id": "56f296fd90e949639f944d5f033f17f2",
       "version_major": 2,
       "version_minor": 0
      },
      "text/plain": [
       "Epochs:   0%|          | 0/1 [00:00<?, ?it/s]"
      ]
     },
     "metadata": {},
     "output_type": "display_data"
    },
    {
     "name": "stdout",
     "output_type": "stream",
     "text": [
      "0.9358490566037736\n"
     ]
    }
   ],
   "source": [
    "while not server.should_stop():\n",
    "    server.tick()\n",
    "\n",
    "    # Obtain predictions.\n",
    "    pp = server.model_predict(torch.tensor(test_set[\"x\"]))\n",
    "    preds = pp.mean.detach().numpy()\n",
    "    test_acc = np.sum(\n",
    "        np.abs(2 * (preds > 0.5) - 1 + test_set[\"y\"]) > 0) / np.size(test_set[\"y\"])\n",
    "\n",
    "    print(test_acc)"
   ]
  },
  {
   "cell_type": "code",
   "execution_count": 18,
   "id": "vulnerable-vaccine",
   "metadata": {},
   "outputs": [],
   "source": [
    "def plot_training(training_array, ax=None):\n",
    "    x_vals = np.arange(1, len(training_array)+1)\n",
    "    \n",
    "    if ax is None:\n",
    "        plt.figure()\n",
    "        ax = plt.gca()\n",
    "        \n",
    "    ax.grid(visible=True)\n",
    "    ax.plot(x_vals, training_array)\n",
    "    ax.set_xlabel('Step')\n",
    "    \n",
    "    if ax is None:\n",
    "        plt.show()"
   ]
  },
  {
   "cell_type": "code",
   "execution_count": 19,
   "id": "checked-belgium",
   "metadata": {
    "scrolled": true
   },
   "outputs": [
    {
     "name": "stdout",
     "output_type": "stream",
     "text": [
      "defaultdict(<class 'list'>, {'communications': [0], 'updated_client_times': [{'time': 0.05231499671936035, 'perf_counter': 0.052311624865978956, 'process_time': 0.096495, 0: {'time': 0.052197933197021484, 'perf_counter': 0.052197042386978865, 'process_time': 0.09638499999999972}}, {'time': 0.10921525955200195, 'perf_counter': 0.10921816620975733, 'process_time': 0.2224459999999997, 1: {'time': 0.04308605194091797, 'perf_counter': 0.04308562492951751, 'process_time': 0.08184700000000067}}, {'time': 0.16790413856506348, 'perf_counter': 0.16790058184415102, 'process_time': 0.3488220000000002, 2: {'time': 0.0430450439453125, 'perf_counter': 0.043044582940638065, 'process_time': 0.08082600000000006}}, {'time': 0.23044419288635254, 'perf_counter': 0.23044003918766975, 'process_time': 0.47706499999999963, 3: {'time': 0.04498410224914551, 'perf_counter': 0.04498333390802145, 'process_time': 0.08255500000000016}}], 'q': [MultivariateGaussianDistributionWithZ(), MultivariateGaussianDistributionWithZ(), MultivariateGaussianDistributionWithZ(), MultivariateGaussianDistributionWithZ()], 'performance_metrics': [{'time': 0.05290508270263672, 'perf_counter': 0.05290229059755802, 'process_time': 0.09721899999999994, 'communications': 1, 'iterations': 1}, {'time': 0.11074423789978027, 'perf_counter': 0.1107407072558999, 'process_time': 0.22407100000000035, 'communications': 2, 'iterations': 2}, {'time': 0.17034912109375, 'perf_counter': 0.17034545680508018, 'process_time': 0.3515290000000002, 'communications': 3, 'iterations': 3}, {'time': 0.23114514350891113, 'perf_counter': 0.23114108107984066, 'process_time': 0.4779720000000003, 'communications': 4, 'iterations': 4}]})\n",
      "========================\n",
      "{'server': defaultdict(<class 'list'>, {'communications': [0], 'updated_client_times': [{'time': 0.05231499671936035, 'perf_counter': 0.052311624865978956, 'process_time': 0.096495, 0: {'time': 0.052197933197021484, 'perf_counter': 0.052197042386978865, 'process_time': 0.09638499999999972}}, {'time': 0.10921525955200195, 'perf_counter': 0.10921816620975733, 'process_time': 0.2224459999999997, 1: {'time': 0.04308605194091797, 'perf_counter': 0.04308562492951751, 'process_time': 0.08184700000000067}}, {'time': 0.16790413856506348, 'perf_counter': 0.16790058184415102, 'process_time': 0.3488220000000002, 2: {'time': 0.0430450439453125, 'perf_counter': 0.043044582940638065, 'process_time': 0.08082600000000006}}, {'time': 0.23044419288635254, 'perf_counter': 0.23044003918766975, 'process_time': 0.47706499999999963, 3: {'time': 0.04498410224914551, 'perf_counter': 0.04498333390802145, 'process_time': 0.08255500000000016}}], 'q': [MultivariateGaussianDistributionWithZ(), MultivariateGaussianDistributionWithZ(), MultivariateGaussianDistributionWithZ(), MultivariateGaussianDistributionWithZ()], 'performance_metrics': [{'time': 0.05290508270263672, 'perf_counter': 0.05290229059755802, 'process_time': 0.09721899999999994, 'communications': 1, 'iterations': 1}, {'time': 0.11074423789978027, 'perf_counter': 0.1107407072558999, 'process_time': 0.22407100000000035, 'communications': 2, 'iterations': 2}, {'time': 0.17034912109375, 'perf_counter': 0.17034545680508018, 'process_time': 0.3515290000000002, 'communications': 3, 'iterations': 3}, {'time': 0.23114514350891113, 'perf_counter': 0.23114108107984066, 'process_time': 0.4779720000000003, 'communications': 4, 'iterations': 4}]}), 'client_0': defaultdict(<class 'list'>, {'training_curves': [defaultdict(<class 'list'>, {'elbo': [-0.7081470795347249], 'kl': [0.014698658114414401], 'll': [-0.6934484214203104]}), defaultdict(<class 'list'>, {'elbo': [-0.670014488780609], 'kl': [0.058562402483115616], 'll': [-0.6114520862974935]})], 'performance_curves': [defaultdict(<class 'list'>, {}), defaultdict(<class 'list'>, {})], 'update_time': [{'time': 0.24188494682312012, 'perf_counter': 0.24188404204323888, 'process_time': 0.23753099999999971}, {'time': 0.052197933197021484, 'perf_counter': 0.052197042386978865, 'process_time': 0.09638499999999972}]}), 'client_1': defaultdict(<class 'list'>, {'training_curves': [defaultdict(<class 'list'>, {'elbo': [-0.6572329307460449], 'kl': [0.138580030777571], 'll': [-0.518652899968474]}), defaultdict(<class 'list'>, {'elbo': [-0.5686527166530221], 'kl': [0.049805475312019176], 'll': [-0.5188472413410029]})], 'performance_curves': [defaultdict(<class 'list'>, {}), defaultdict(<class 'list'>, {})], 'update_time': [{'time': 0.044245004653930664, 'perf_counter': 0.04424412501975894, 'process_time': 0.08149799999999985}, {'time': 0.04308605194091797, 'perf_counter': 0.04308562492951751, 'process_time': 0.08184700000000067}]}), 'client_2': defaultdict(<class 'list'>, {'training_curves': [defaultdict(<class 'list'>, {'elbo': [-0.713795383436514], 'kl': [0.22269907725949475], 'll': [-0.49109630617701944]}), defaultdict(<class 'list'>, {'elbo': [-0.6763723349021323], 'kl': [0.16392186982757678], 'll': [-0.5124504650745555]})], 'performance_curves': [defaultdict(<class 'list'>, {}), defaultdict(<class 'list'>, {})], 'update_time': [{'time': 0.04659605026245117, 'perf_counter': 0.04659637529402971, 'process_time': 0.0832980000000001}, {'time': 0.0430450439453125, 'perf_counter': 0.043044582940638065, 'process_time': 0.08082600000000006}]}), 'client_3': defaultdict(<class 'list'>, {'training_curves': [defaultdict(<class 'list'>, {'elbo': [-1.4984414365686944], 'kl': [0.9987604663543482], 'll': [-0.4996809702143464]}), defaultdict(<class 'list'>, {'elbo': [-0.8166850060559994], 'kl': [0.2806161143324834], 'll': [-0.5360688917235161]})], 'performance_curves': [defaultdict(<class 'list'>, {}), defaultdict(<class 'list'>, {})], 'update_time': [{'time': 0.044119834899902344, 'perf_counter': 0.0441189999692142, 'process_time': 0.08261099999999999}, {'time': 0.04498410224914551, 'perf_counter': 0.04498333390802145, 'process_time': 0.08255500000000016}]})}\n"
     ]
    }
   ],
   "source": [
    "print(server.log)\n",
    "logs = server.get_compiled_log()\n",
    "print(\"========================\")\n",
    "print(logs)"
   ]
  },
  {
   "cell_type": "code",
   "execution_count": 29,
   "id": "comparative-hollywood",
   "metadata": {
    "scrolled": false
   },
   "outputs": [
    {
     "name": "stdout",
     "output_type": "stream",
     "text": [
      "[-0.7081470795347249]\n",
      "Axes(0.125,0.11;0.168478x0.77)\n",
      "[-0.6572329307460449]\n",
      "Axes(0.327174,0.11;0.168478x0.77)\n",
      "[-0.713795383436514]\n",
      "Axes(0.529348,0.11;0.168478x0.77)\n",
      "[-1.4984414365686944]\n",
      "Axes(0.731522,0.11;0.168478x0.77)\n"
     ]
    },
    {
     "data": {
      "image/png": "[encoded data removed]",
      "text/plain": [
       "<Figure size 1200x500 with 4 Axes>"
      ]
     },
     "metadata": {},
     "output_type": "display_data"
    }
   ],
   "source": [
    "ncols = len(clients)\n",
    "nrows = 1\n",
    "\n",
    "fig, axes = plt.subplots(figsize=(ncols*3, nrows*5), nrows=nrows, ncols=ncols, sharey=\"row\")\n",
    "\n",
    "\n",
    "for i, client in enumerate(server.clients):\n",
    "    \n",
    "    if nrows > 1:\n",
    "        for j in range(nrows):\n",
    "            print(\"hello\")\n",
    "            ax = axes[j, i]\n",
    "            print(logs[f\"client_{i}\"])\n",
    "            plot_training(logs[f\"client_{i}\"][\"training_curves\"][j][\"elbo\"], ax)\n",
    "\n",
    "        axes[0, i].set_title(\"Client {}\".format(i))\n",
    "    else:\n",
    "        ax = axes[i]\n",
    "        print(logs[f\"client_{i}\"][\"training_curves\"][0][\"elbo\"])\n",
    "        print(ax)\n",
    "        plot_training(logs[f\"client_{i}\"][\"training_curves\"][0][\"elbo\"], ax)\n",
    "        ax.set_title(\"Client {}\".format(i))\n",
    "    \n",
    "if nrows > 1:\n",
    "    for j in range(nrows):\n",
    "        axes[j, 0].set_ylabel(\"Iteration {}\".format(j))\n",
    "else:\n",
    "    axes[0].set_ylabel(\"Iteration {}\".format(0))\n",
    "        \n",
    "        \n",
    "plt.show()"
   ]
  },
  {
   "cell_type": "code",
   "execution_count": 31,
   "id": "980bc95a",
   "metadata": {},
   "outputs": [
    {
     "data": {
      "image/png": "[encoded data removed]",
      "text/plain": [
       "<Figure size 3200x800 with 3 Axes>"
      ]
     },
     "metadata": {},
     "output_type": "display_data"
    }
   ],
   "source": [
    "fig, axes = plt.subplots(figsize=(16, 4), nrows=1, ncols=3, dpi=200)\n",
    "\n",
    "x_old, y_old, z_old = None, None, None\n",
    "\n",
    "for q, model_state_dict, ax, client in zip(server.log[\"q\"][0:], server.log[\"model_state_dict\"][0:], axes, server.clients):\n",
    "    print(\"hello\")\n",
    "    x, y = client.data[\"x\"].numpy(), client.data[\"y\"].numpy()\n",
    "    z = client.inducing_locations.numpy()\n",
    "    model = copy.deepcopy(server.model)\n",
    "    model.load_state_dict(model_state_dict)\n",
    "    \n",
    "    plot_predictive_distribution(x, y, z, model, q=q, ax=ax, x_old=x_old, y_old=y_old, z_old=z_old)\n",
    "    \n",
    "    if x_old is not None:\n",
    "        x_old = np.concatenate((x_old, x), axis=0)\n",
    "        y_old = np.concatenate((y_old, y), axis=0)\n",
    "        z_old = np.concatenate((z_old, z), axis=0)\n",
    "    else:\n",
    "        x_old, y_old, z_old = x, y, z\n",
    "    \n",
    "plt.suptitle(\"f: vfe, hypers: ml\", fontsize=16)\n",
    "plt.show()"
   ]
  },
  {
   "cell_type": "code",
   "execution_count": null,
   "id": "ad9f2b38",
   "metadata": {},
   "outputs": [],
   "source": []
  }
 ],
 "metadata": {
  "kernelspec": {
   "display_name": "Python 3 (ipykernel)",
   "language": "python",
   "name": "python3"
  },
  "language_info": {
   "codemirror_mode": {
    "name": "ipython",
    "version": 3
   },
   "file_extension": ".py",
   "mimetype": "text/x-python",
   "name": "python",
   "nbconvert_exporter": "python",
   "pygments_lexer": "ipython3",
   "version": "3.11.4"
  }
 },
 "nbformat": 4,
 "nbformat_minor": 5
}
