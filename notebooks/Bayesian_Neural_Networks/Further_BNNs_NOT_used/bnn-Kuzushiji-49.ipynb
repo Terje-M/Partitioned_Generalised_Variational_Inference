{
 "cells": [
  {
   "cell_type": "code",
   "execution_count": 18,
   "id": "breeding-grove",
   "metadata": {},
   "outputs": [
    {
     "name": "stdout",
     "output_type": "stream",
     "text": [
      "The autoreload extension is already loaded. To reload it, use:\n",
      "  %reload_ext autoreload\n"
     ]
    }
   ],
   "source": [
    "%load_ext autoreload\n",
    "%autoreload 2\n",
    "\n",
    "import os\n",
    "import sys\n",
    "import logging\n",
    "\n",
    "module_path = os.path.abspath(os.path.join(\"../../..\"))\n",
    "if module_path not in sys.path:\n",
    "    sys.path.append(module_path)\n",
    "    \n",
    "from pathlib import Path\n",
    "\n",
    "import torch\n",
    "import torch.utils.data\n",
    "from torchvision import transforms, datasets\n",
    "import numpy as np\n",
    "import matplotlib\n",
    "\"\"\"matplotlib.use(\"pgf\")\n",
    "matplotlib.rcParams.update({\n",
    "    \"pgf.texsystem\": \"pdflatex\",\n",
    "    'font.family': 'serif',\n",
    "    'text.usetex': True,\n",
    "    'pgf.rcfonts': False,\n",
    "})\"\"\"\n",
    "import matplotlib.pyplot as plt\n",
    "\n",
    "import pvi\n",
    "from pvi.models import ClassificationBNNLocalRepam\n",
    "from pvi.clients import Client\n",
    "from pvi.servers import SequentialServer, SynchronousServer\n",
    "from pvi.distributions import MeanFieldGaussianDistribution, MeanFieldGaussianFactor\n",
    "from pvi.utils.training_utils import EarlyStopping"
   ]
  },
  {
   "cell_type": "code",
   "execution_count": 2,
   "id": "435545ad-fcfd-45d0-a1cd-18239fc50e49",
   "metadata": {},
   "outputs": [],
   "source": [
    "data_dir = Path(\"/Users/terjemildner/Desktop/data\")\n",
    "cache_dir = Path(\"/Users/terjemildner/Desktop/PVI-main/experiments/fekmnist\")"
   ]
  },
  {
   "cell_type": "markdown",
   "id": "54a3148a-a47d-48e5-b7c6-ad151426b14d",
   "metadata": {},
   "source": [
    "## Define various functions for splitting data and recording performance metrics."
   ]
  },
  {
   "cell_type": "code",
   "execution_count": 3,
   "id": "f50d7529-98c4-4e24-b2ed-da080394cc4e",
   "metadata": {},
   "outputs": [],
   "source": [
    "# Data splitting functions.\n",
    "def homogeneous_split(data, num_clients=100, seed=42):\n",
    "    # Set numpy's random seed.\n",
    "    np.random.seed(seed)\n",
    "    \n",
    "    perm = np.random.permutation(len(data[\"x\"]))\n",
    "    client_data = []\n",
    "    for i in range(num_clients):\n",
    "        client_idx = perm[i::num_clients]\n",
    "        client_data.append({\"x\": data[\"x\"][client_idx], \"y\": data[\"y\"][client_idx]})\n",
    "    \n",
    "    return client_data\n",
    "\n",
    "def heterogeneous_split(data, num_clients=100):\n",
    "    # Set numpy's random seed.\n",
    "    listed = np.argsort(data[\"y\"])\n",
    "\n",
    "    sorted_x = data[\"x\"][listed[::1]]\n",
    "    sorted_y = data[\"y\"][listed[::1]]\n",
    "    \n",
    "    l = len(data[\"y\"])\n",
    "    client_size = int(np.ceil(l/num_clients))\n",
    "    \n",
    "    client_data = []\n",
    "    \n",
    "    for i in range(num_clients):        \n",
    "        client_data.append({\"x\": sorted_x[i*client_size:(i+1)*client_size], \n",
    "                            \"y\": sorted_y[i*client_size:(i+1)*client_size]})\n",
    "    \n",
    "    return client_data\n",
    "\n",
    "\n",
    "# Performance metric function. Why is the batch size 512 when the split gives 600? => Mini batches?\n",
    "def performance_metrics(client, data, batch_size=512):\n",
    "    dataset = torch.utils.data.TensorDataset(data[\"x\"], data[\"y\"])\n",
    "    loader = torch.utils.data.DataLoader(dataset, batch_size=512, shuffle=False)\n",
    "    \n",
    "    device = client.config[\"device\"]\n",
    "    \n",
    "    if device == \"cuda\":\n",
    "        loader.pin_memory = True\n",
    "        \n",
    "    preds, mlls = [], []\n",
    "    for (x_batch, y_batch) in loader:\n",
    "        x_batch, y_batch = x_batch.to(device), y_batch.to(device)\n",
    "        \n",
    "        pp = client.model_predict(x_batch)\n",
    "        preds.append(pp.component_distribution.probs.mean(1).cpu())\n",
    "        mlls.append(pp.log_prob(y_batch).cpu())\n",
    "        \n",
    "    mll = torch.cat(mlls).mean()\n",
    "    preds = torch.cat(preds)\n",
    "    acc = sum(torch.argmax(preds, dim=-1) == loader.dataset.tensors[1]) / len(\n",
    "        loader.dataset.tensors[1]\n",
    "    )\n",
    "    \n",
    "    return {\"mll\": mll, \"acc\": acc}"
   ]
  },
  {
   "cell_type": "markdown",
   "id": "99665737-174b-4c35-80f6-1587d6218f90",
   "metadata": {},
   "source": [
    "## Data preprocessing"
   ]
  },
  {
   "cell_type": "code",
   "execution_count": 4,
   "id": "0aa246ee",
   "metadata": {},
   "outputs": [],
   "source": [
    "transform_train = transforms.Compose([transforms.ToTensor()])\n",
    "transform_test = transforms.Compose([transforms.ToTensor()])\n",
    "\n",
    "train_set = torch.from_numpy(np.load(\"../../../../data/Kuzushiji_49/k49-train-imgs.npz\")['arr_0'])\n",
    "train_labels = torch.from_numpy(np.load(\"../../../../data/Kuzushiji_49/k49-train-labels.npz\")['arr_0'])\n",
    "test_set = torch.from_numpy(np.load(\"../../../../data/Kuzushiji_49/k49-test-imgs.npz\")['arr_0'])\n",
    "test_labels = torch.from_numpy(np.load(\"../../../../data/Kuzushiji_49/k49-test-labels.npz\")['arr_0'])"
   ]
  },
  {
   "cell_type": "code",
   "execution_count": 5,
   "id": "2ca79e4d",
   "metadata": {
    "scrolled": true
   },
   "outputs": [
    {
     "name": "stdout",
     "output_type": "stream",
     "text": [
      "Training Data Length:  232365\n",
      "Testing Data Length:  38547\n"
     ]
    }
   ],
   "source": [
    "train_data = {\n",
    "    \"x\": ((train_set - 0) / 255).reshape(-1, 28 * 28),\n",
    "    \"y\": train_labels,\n",
    "}\n",
    "\n",
    "test_data = {\n",
    "    \"x\": ((test_set- 0) / 255).reshape(-1, 28 * 28),\n",
    "    \"y\": test_labels,\n",
    "}\n",
    "print(f\"Training Data Length: \", len(train_data[\"x\"]))\n",
    "print(f\"Testing Data Length: \", len(test_data[\"x\"]))"
   ]
  },
  {
   "cell_type": "code",
   "execution_count": 24,
   "id": "0c5e7f50-4b69-4cf7-baea-4fd18076d6c8",
   "metadata": {},
   "outputs": [],
   "source": [
    "# Get client splits.\n",
    "client_data = homogeneous_split(train_data, 25, seed=49)"
   ]
  },
  {
   "cell_type": "markdown",
   "id": "494906de-3e8e-4c61-bfa6-100ba7501926",
   "metadata": {},
   "source": [
    "## Define configuration for server and clients"
   ]
  },
  {
   "cell_type": "code",
   "execution_count": 25,
   "id": "0d7682e6-5891-40f6-940d-171616bae48b",
   "metadata": {},
   "outputs": [],
   "source": [
    "model_config = {\n",
    "    \"input_dim\": 784,\n",
    "    \"latent_dim\": 200,\n",
    "    \"output_dim\": 49,\n",
    "    \"num_layers\": 1,\n",
    "    \"num_predictive_samples\": 100,\n",
    "    \"prior_var\": 1.0,\n",
    "}\n",
    "\n",
    "client_config = {\n",
    "    \"damping_factor\": 0.7,\n",
    "    \"optimiser\": \"Adam\",\n",
    "    \"optimiser_params\": {\"lr\": 5e-4},\n",
    "    \"sigma_optimiser_params\": {\"lr\": 5e-4},\n",
    "    \"early_stopping\": EarlyStopping(25, score_name=\"elbo\", stash_model=True),\n",
    "    \"performance_metrics\": performance_metrics,\n",
    "    \"batch_size\": 512,\n",
    "    \"epochs\": 2500,\n",
    "    \"print_epochs\": np.inf,\n",
    "    \"num_elbo_samples\": 10,\n",
    "    \"valid_factors\": False,\n",
    "    \"device\": \"cpu\",\n",
    "    \"init_var\": 1e-3,\n",
    "    \"verbose\": True,\n",
    "    \"divergence\": \"KLD\",\n",
    "    \"alpha\": 1.0\n",
    "}\n",
    "\n",
    "server_config = {\n",
    "    **client_config,\n",
    "    #100\n",
    "    \"max_iterations\": 100,\n",
    "}"
   ]
  },
  {
   "cell_type": "markdown",
   "id": "196ce95c-3c55-496d-922f-997bb5d049b2",
   "metadata": {},
   "source": [
    "## Set up model etc."
   ]
  },
  {
   "cell_type": "code",
   "execution_count": 26,
   "id": "ae71b9e9-5686-478d-9086-0a06a268a854",
   "metadata": {
    "scrolled": false
   },
   "outputs": [],
   "source": [
    "device = server_config[\"device\"]\n",
    "\n",
    "model = ClassificationBNNLocalRepam(config=model_config)\n",
    "\n",
    "# Initial parameters.\n",
    "init_q_std_params = {\n",
    "    \"loc\": torch.zeros(size=(model.num_parameters,)).to(device).uniform_(-0.1, 0.1),\n",
    "    \"scale\": torch.ones(size=(model.num_parameters,)).to(device) \n",
    "    * client_config[\"init_var\"] ** 0.5,\n",
    "}\n",
    "\n",
    "prior_std_params = {\n",
    "    \"loc\": torch.zeros(size=(model.num_parameters,)).to(device),\n",
    "    \"scale\": model_config[\"prior_var\"] ** 0.5 \n",
    "    * torch.ones(size=(model.num_parameters,)).to(device),\n",
    "}\n",
    "\n",
    "init_factor_nat_params = {\n",
    "    \"np1\": torch.zeros(model.num_parameters).to(device),\n",
    "    \"np2\": torch.zeros(model.num_parameters).to(device),\n",
    "}\n",
    "\n",
    "p = MeanFieldGaussianDistribution(\n",
    "    std_params=prior_std_params, is_trainable=False\n",
    ")\n",
    "init_q = MeanFieldGaussianDistribution(\n",
    "    std_params=init_q_std_params, is_trainable=False\n",
    ")\n",
    "\n",
    "clients = []\n",
    "size_training = 0\n",
    "for i in range(25):\n",
    "    data_i = client_data[i]\n",
    "    size_training += len(data_i[\"x\"])\n",
    "    t_i = MeanFieldGaussianFactor(nat_params=init_factor_nat_params)\n",
    "    clients.append(\n",
    "        Client(\n",
    "            data=data_i,\n",
    "            model=model,\n",
    "            t=t_i,\n",
    "            config=client_config,\n",
    "            val_data=test_data\n",
    "        )\n",
    "    )    \n",
    "server = SynchronousServer(model=model, p=p, clients=clients, config=server_config, init_q=init_q, data=train_data, val_data=test_data)"
   ]
  },
  {
   "cell_type": "markdown",
   "id": "c8db69f6-b2ae-419a-b8f3-1efb8dc8bcda",
   "metadata": {},
   "source": [
    "## Run PVI!"
   ]
  },
  {
   "cell_type": "code",
   "execution_count": 27,
   "id": "dc1f6b1f-6da0-460c-8a6b-032288230f62",
   "metadata": {
    "scrolled": true
   },
   "outputs": [
    {
     "data": {
      "application/vnd.jupyter.widget-view+json": {
       "model_id": "",
       "version_major": 2,
       "version_minor": 0
      },
      "text/plain": [
       "0it [00:00, ?it/s]"
      ]
     },
     "metadata": {},
     "output_type": "display_data"
    },
    {
     "data": {
      "application/vnd.jupyter.widget-view+json": {
       "model_id": "7196b1fdb591481baac5f1706cd2f7b3",
       "version_major": 2,
       "version_minor": 0
      },
      "text/plain": [
       "Epoch:   0%|          | 0/2500 [00:00<?, ?it/s]"
      ]
     },
     "metadata": {},
     "output_type": "display_data"
    },
    {
     "data": {
      "application/vnd.jupyter.widget-view+json": {
       "model_id": "d93fdb18e9684ba0bd88d7b39243aa21",
       "version_major": 2,
       "version_minor": 0
      },
      "text/plain": [
       "Epoch:   0%|          | 0/2500 [00:00<?, ?it/s]"
      ]
     },
     "metadata": {},
     "output_type": "display_data"
    },
    {
     "data": {
      "application/vnd.jupyter.widget-view+json": {
       "model_id": "9851149a790f4b6aab979a1d392d5a7f",
       "version_major": 2,
       "version_minor": 0
      },
      "text/plain": [
       "Epoch:   0%|          | 0/2500 [00:00<?, ?it/s]"
      ]
     },
     "metadata": {},
     "output_type": "display_data"
    },
    {
     "data": {
      "application/vnd.jupyter.widget-view+json": {
       "model_id": "6ed9c778895345b9a6a2ad593586f74e",
       "version_major": 2,
       "version_minor": 0
      },
      "text/plain": [
       "Epoch:   0%|          | 0/2500 [00:00<?, ?it/s]"
      ]
     },
     "metadata": {},
     "output_type": "display_data"
    },
    {
     "data": {
      "application/vnd.jupyter.widget-view+json": {
       "model_id": "f38b6d77c1d442709ea4f307ac24a3fd",
       "version_major": 2,
       "version_minor": 0
      },
      "text/plain": [
       "Epoch:   0%|          | 0/2500 [00:00<?, ?it/s]"
      ]
     },
     "metadata": {},
     "output_type": "display_data"
    },
    {
     "data": {
      "application/vnd.jupyter.widget-view+json": {
       "model_id": "8d3809f4628742e783467cf66c0a8e19",
       "version_major": 2,
       "version_minor": 0
      },
      "text/plain": [
       "Epoch:   0%|          | 0/2500 [00:00<?, ?it/s]"
      ]
     },
     "metadata": {},
     "output_type": "display_data"
    },
    {
     "data": {
      "application/vnd.jupyter.widget-view+json": {
       "model_id": "01c55e50a381442490128303b1e7cabd",
       "version_major": 2,
       "version_minor": 0
      },
      "text/plain": [
       "Epoch:   0%|          | 0/2500 [00:00<?, ?it/s]"
      ]
     },
     "metadata": {},
     "output_type": "display_data"
    },
    {
     "data": {
      "application/vnd.jupyter.widget-view+json": {
       "model_id": "5c3d273868d84876a3e792f3e0140be4",
       "version_major": 2,
       "version_minor": 0
      },
      "text/plain": [
       "Epoch:   0%|          | 0/2500 [00:00<?, ?it/s]"
      ]
     },
     "metadata": {},
     "output_type": "display_data"
    },
    {
     "data": {
      "application/vnd.jupyter.widget-view+json": {
       "model_id": "1a462279ae8d4ef58eff94a9d525172c",
       "version_major": 2,
       "version_minor": 0
      },
      "text/plain": [
       "Epoch:   0%|          | 0/2500 [00:00<?, ?it/s]"
      ]
     },
     "metadata": {},
     "output_type": "display_data"
    },
    {
     "data": {
      "application/vnd.jupyter.widget-view+json": {
       "model_id": "42abb9302ea145dc82457d04b666bc2e",
       "version_major": 2,
       "version_minor": 0
      },
      "text/plain": [
       "Epoch:   0%|          | 0/2500 [00:00<?, ?it/s]"
      ]
     },
     "metadata": {},
     "output_type": "display_data"
    },
    {
     "data": {
      "application/vnd.jupyter.widget-view+json": {
       "model_id": "0b2544253fdd4625be63877555fd4dac",
       "version_major": 2,
       "version_minor": 0
      },
      "text/plain": [
       "Epoch:   0%|          | 0/2500 [00:00<?, ?it/s]"
      ]
     },
     "metadata": {},
     "output_type": "display_data"
    },
    {
     "data": {
      "application/vnd.jupyter.widget-view+json": {
       "model_id": "1a0305d7ba604a78bf872e77636e1765",
       "version_major": 2,
       "version_minor": 0
      },
      "text/plain": [
       "Epoch:   0%|          | 0/2500 [00:00<?, ?it/s]"
      ]
     },
     "metadata": {},
     "output_type": "display_data"
    },
    {
     "data": {
      "application/vnd.jupyter.widget-view+json": {
       "model_id": "cf28fccbf5ef44b890c6cc96500ce7be",
       "version_major": 2,
       "version_minor": 0
      },
      "text/plain": [
       "Epoch:   0%|          | 0/2500 [00:00<?, ?it/s]"
      ]
     },
     "metadata": {},
     "output_type": "display_data"
    },
    {
     "data": {
      "application/vnd.jupyter.widget-view+json": {
       "model_id": "96947d757aac4de68c19219477ed1ab9",
       "version_major": 2,
       "version_minor": 0
      },
      "text/plain": [
       "Epoch:   0%|          | 0/2500 [00:00<?, ?it/s]"
      ]
     },
     "metadata": {},
     "output_type": "display_data"
    },
    {
     "data": {
      "application/vnd.jupyter.widget-view+json": {
       "model_id": "9448eee270fe4a308c053b5886c80d89",
       "version_major": 2,
       "version_minor": 0
      },
      "text/plain": [
       "Epoch:   0%|          | 0/2500 [00:00<?, ?it/s]"
      ]
     },
     "metadata": {},
     "output_type": "display_data"
    },
    {
     "data": {
      "application/vnd.jupyter.widget-view+json": {
       "model_id": "df348b956d9341909a5b6c9414cece7d",
       "version_major": 2,
       "version_minor": 0
      },
      "text/plain": [
       "Epoch:   0%|          | 0/2500 [00:00<?, ?it/s]"
      ]
     },
     "metadata": {},
     "output_type": "display_data"
    },
    {
     "data": {
      "application/vnd.jupyter.widget-view+json": {
       "model_id": "45ce354d02e2499db3b7fce087f9aa14",
       "version_major": 2,
       "version_minor": 0
      },
      "text/plain": [
       "Epoch:   0%|          | 0/2500 [00:00<?, ?it/s]"
      ]
     },
     "metadata": {},
     "output_type": "display_data"
    },
    {
     "data": {
      "application/vnd.jupyter.widget-view+json": {
       "model_id": "50b43e2db67b444a817bbce5fb3305f2",
       "version_major": 2,
       "version_minor": 0
      },
      "text/plain": [
       "Epoch:   0%|          | 0/2500 [00:00<?, ?it/s]"
      ]
     },
     "metadata": {},
     "output_type": "display_data"
    },
    {
     "data": {
      "application/vnd.jupyter.widget-view+json": {
       "model_id": "c7b240fee45e44678c89642f4ddba9b1",
       "version_major": 2,
       "version_minor": 0
      },
      "text/plain": [
       "Epoch:   0%|          | 0/2500 [00:00<?, ?it/s]"
      ]
     },
     "metadata": {},
     "output_type": "display_data"
    },
    {
     "data": {
      "application/vnd.jupyter.widget-view+json": {
       "model_id": "8d5984bbe9bc4ad9991d827ebe9e8ed4",
       "version_major": 2,
       "version_minor": 0
      },
      "text/plain": [
       "Epoch:   0%|          | 0/2500 [00:00<?, ?it/s]"
      ]
     },
     "metadata": {},
     "output_type": "display_data"
    },
    {
     "data": {
      "application/vnd.jupyter.widget-view+json": {
       "model_id": "f961fda448db4fb0b86153650dcb4294",
       "version_major": 2,
       "version_minor": 0
      },
      "text/plain": [
       "Epoch:   0%|          | 0/2500 [00:00<?, ?it/s]"
      ]
     },
     "metadata": {},
     "output_type": "display_data"
    },
    {
     "data": {
      "application/vnd.jupyter.widget-view+json": {
       "model_id": "3e5b765273054df99758fc7b76a5fbac",
       "version_major": 2,
       "version_minor": 0
      },
      "text/plain": [
       "Epoch:   0%|          | 0/2500 [00:00<?, ?it/s]"
      ]
     },
     "metadata": {},
     "output_type": "display_data"
    },
    {
     "data": {
      "application/vnd.jupyter.widget-view+json": {
       "model_id": "04bd4fba4a824f039372fc736b02905d",
       "version_major": 2,
       "version_minor": 0
      },
      "text/plain": [
       "Epoch:   0%|          | 0/2500 [00:00<?, ?it/s]"
      ]
     },
     "metadata": {},
     "output_type": "display_data"
    },
    {
     "data": {
      "application/vnd.jupyter.widget-view+json": {
       "model_id": "cb0b3f5ae9ad485eb58f107efed4cd25",
       "version_major": 2,
       "version_minor": 0
      },
      "text/plain": [
       "Epoch:   0%|          | 0/2500 [00:00<?, ?it/s]"
      ]
     },
     "metadata": {},
     "output_type": "display_data"
    },
    {
     "data": {
      "application/vnd.jupyter.widget-view+json": {
       "model_id": "6b369796baeb401daa69fa4dd551007a",
       "version_major": 2,
       "version_minor": 0
      },
      "text/plain": [
       "Epoch:   0%|          | 0/2500 [00:00<?, ?it/s]"
      ]
     },
     "metadata": {},
     "output_type": "display_data"
    },
    {
     "name": "stdout",
     "output_type": "stream",
     "text": [
      "Iterations: 0.\n",
      "Time taken: 45390.519.\n",
      "Test mll: -3.031. Test acc: 0.218.\n",
      "Train mll: -2.780. Train acc: 0.262.\n",
      "\n"
     ]
    },
    {
     "data": {
      "application/vnd.jupyter.widget-view+json": {
       "model_id": "",
       "version_major": 2,
       "version_minor": 0
      },
      "text/plain": [
       "0it [00:00, ?it/s]"
      ]
     },
     "metadata": {},
     "output_type": "display_data"
    },
    {
     "data": {
      "application/vnd.jupyter.widget-view+json": {
       "model_id": "fc266402e82145a18e405f589874ec42",
       "version_major": 2,
       "version_minor": 0
      },
      "text/plain": [
       "Epoch:   0%|          | 0/2500 [00:00<?, ?it/s]"
      ]
     },
     "metadata": {},
     "output_type": "display_data"
    },
    {
     "data": {
      "application/vnd.jupyter.widget-view+json": {
       "model_id": "2db1747e71d24fd6bc642e0a1dd1248b",
       "version_major": 2,
       "version_minor": 0
      },
      "text/plain": [
       "Epoch:   0%|          | 0/2500 [00:00<?, ?it/s]"
      ]
     },
     "metadata": {},
     "output_type": "display_data"
    },
    {
     "data": {
      "application/vnd.jupyter.widget-view+json": {
       "model_id": "d35156e670404a17a3ef341ec1a67094",
       "version_major": 2,
       "version_minor": 0
      },
      "text/plain": [
       "Epoch:   0%|          | 0/2500 [00:00<?, ?it/s]"
      ]
     },
     "metadata": {},
     "output_type": "display_data"
    },
    {
     "data": {
      "application/vnd.jupyter.widget-view+json": {
       "model_id": "efdd7d58073a4646b570349313756479",
       "version_major": 2,
       "version_minor": 0
      },
      "text/plain": [
       "Epoch:   0%|          | 0/2500 [00:00<?, ?it/s]"
      ]
     },
     "metadata": {},
     "output_type": "display_data"
    },
    {
     "data": {
      "application/vnd.jupyter.widget-view+json": {
       "model_id": "6ad1690296274a3d99f637300e1f7b38",
       "version_major": 2,
       "version_minor": 0
      },
      "text/plain": [
       "Epoch:   0%|          | 0/2500 [00:00<?, ?it/s]"
      ]
     },
     "metadata": {},
     "output_type": "display_data"
    },
    {
     "data": {
      "application/vnd.jupyter.widget-view+json": {
       "model_id": "e10da9c2a66d423cb489b993c7c62d2b",
       "version_major": 2,
       "version_minor": 0
      },
      "text/plain": [
       "Epoch:   0%|          | 0/2500 [00:00<?, ?it/s]"
      ]
     },
     "metadata": {},
     "output_type": "display_data"
    },
    {
     "data": {
      "application/vnd.jupyter.widget-view+json": {
       "model_id": "678e7dac6d8b4d1a87ca532decac4829",
       "version_major": 2,
       "version_minor": 0
      },
      "text/plain": [
       "Epoch:   0%|          | 0/2500 [00:00<?, ?it/s]"
      ]
     },
     "metadata": {},
     "output_type": "display_data"
    },
    {
     "data": {
      "application/vnd.jupyter.widget-view+json": {
       "model_id": "8ad8a2cfc3f9412ea610afd7aa1263d8",
       "version_major": 2,
       "version_minor": 0
      },
      "text/plain": [
       "Epoch:   0%|          | 0/2500 [00:00<?, ?it/s]"
      ]
     },
     "metadata": {},
     "output_type": "display_data"
    },
    {
     "data": {
      "application/vnd.jupyter.widget-view+json": {
       "model_id": "4a36008b265f43e3bdb1827bf412504f",
       "version_major": 2,
       "version_minor": 0
      },
      "text/plain": [
       "Epoch:   0%|          | 0/2500 [00:00<?, ?it/s]"
      ]
     },
     "metadata": {},
     "output_type": "display_data"
    },
    {
     "data": {
      "application/vnd.jupyter.widget-view+json": {
       "model_id": "aad4cb84aa074255a6d791edbb3a47bf",
       "version_major": 2,
       "version_minor": 0
      },
      "text/plain": [
       "Epoch:   0%|          | 0/2500 [00:00<?, ?it/s]"
      ]
     },
     "metadata": {},
     "output_type": "display_data"
    },
    {
     "data": {
      "application/vnd.jupyter.widget-view+json": {
       "model_id": "e40a54f0b7f248a382916e6fdc4dff63",
       "version_major": 2,
       "version_minor": 0
      },
      "text/plain": [
       "Epoch:   0%|          | 0/2500 [00:00<?, ?it/s]"
      ]
     },
     "metadata": {},
     "output_type": "display_data"
    },
    {
     "data": {
      "application/vnd.jupyter.widget-view+json": {
       "model_id": "a196768134444e3eae9255573bb40caf",
       "version_major": 2,
       "version_minor": 0
      },
      "text/plain": [
       "Epoch:   0%|          | 0/2500 [00:00<?, ?it/s]"
      ]
     },
     "metadata": {},
     "output_type": "display_data"
    },
    {
     "data": {
      "application/vnd.jupyter.widget-view+json": {
       "model_id": "e9754bf1043045eabd75effcc720d96a",
       "version_major": 2,
       "version_minor": 0
      },
      "text/plain": [
       "Epoch:   0%|          | 0/2500 [00:00<?, ?it/s]"
      ]
     },
     "metadata": {},
     "output_type": "display_data"
    },
    {
     "data": {
      "application/vnd.jupyter.widget-view+json": {
       "model_id": "90e5c83d90e4482b9f61b72014167f38",
       "version_major": 2,
       "version_minor": 0
      },
      "text/plain": [
       "Epoch:   0%|          | 0/2500 [00:00<?, ?it/s]"
      ]
     },
     "metadata": {},
     "output_type": "display_data"
    },
    {
     "data": {
      "application/vnd.jupyter.widget-view+json": {
       "model_id": "1e64d2ad38be452abeabbcba993f10f8",
       "version_major": 2,
       "version_minor": 0
      },
      "text/plain": [
       "Epoch:   0%|          | 0/2500 [00:00<?, ?it/s]"
      ]
     },
     "metadata": {},
     "output_type": "display_data"
    },
    {
     "data": {
      "application/vnd.jupyter.widget-view+json": {
       "model_id": "980a881ba2874e239ab568f628489cf0",
       "version_major": 2,
       "version_minor": 0
      },
      "text/plain": [
       "Epoch:   0%|          | 0/2500 [00:00<?, ?it/s]"
      ]
     },
     "metadata": {},
     "output_type": "display_data"
    },
    {
     "data": {
      "application/vnd.jupyter.widget-view+json": {
       "model_id": "48a5bbc7a73c42b0b607b9241f07bcbb",
       "version_major": 2,
       "version_minor": 0
      },
      "text/plain": [
       "Epoch:   0%|          | 0/2500 [00:00<?, ?it/s]"
      ]
     },
     "metadata": {},
     "output_type": "display_data"
    },
    {
     "data": {
      "application/vnd.jupyter.widget-view+json": {
       "model_id": "99ef16c199354c68b0552c815fd804a8",
       "version_major": 2,
       "version_minor": 0
      },
      "text/plain": [
       "Epoch:   0%|          | 0/2500 [00:00<?, ?it/s]"
      ]
     },
     "metadata": {},
     "output_type": "display_data"
    },
    {
     "data": {
      "application/vnd.jupyter.widget-view+json": {
       "model_id": "686ac5d17115441fac3b706bf39fa5c2",
       "version_major": 2,
       "version_minor": 0
      },
      "text/plain": [
       "Epoch:   0%|          | 0/2500 [00:00<?, ?it/s]"
      ]
     },
     "metadata": {},
     "output_type": "display_data"
    },
    {
     "data": {
      "application/vnd.jupyter.widget-view+json": {
       "model_id": "0b14d738e04f4b34baad368ed827cf06",
       "version_major": 2,
       "version_minor": 0
      },
      "text/plain": [
       "Epoch:   0%|          | 0/2500 [00:00<?, ?it/s]"
      ]
     },
     "metadata": {},
     "output_type": "display_data"
    },
    {
     "data": {
      "application/vnd.jupyter.widget-view+json": {
       "model_id": "7d17fc7a52b740c4a820a204dc7e9b00",
       "version_major": 2,
       "version_minor": 0
      },
      "text/plain": [
       "Epoch:   0%|          | 0/2500 [00:00<?, ?it/s]"
      ]
     },
     "metadata": {},
     "output_type": "display_data"
    },
    {
     "data": {
      "application/vnd.jupyter.widget-view+json": {
       "model_id": "14ac2258ac2b443785990fc586d96cc9",
       "version_major": 2,
       "version_minor": 0
      },
      "text/plain": [
       "Epoch:   0%|          | 0/2500 [00:00<?, ?it/s]"
      ]
     },
     "metadata": {},
     "output_type": "display_data"
    },
    {
     "data": {
      "application/vnd.jupyter.widget-view+json": {
       "model_id": "3e3d795a409e4142ac7ccd5097c5d006",
       "version_major": 2,
       "version_minor": 0
      },
      "text/plain": [
       "Epoch:   0%|          | 0/2500 [00:00<?, ?it/s]"
      ]
     },
     "metadata": {},
     "output_type": "display_data"
    },
    {
     "data": {
      "application/vnd.jupyter.widget-view+json": {
       "model_id": "fcdabb913dfa43aa9941be986447c22d",
       "version_major": 2,
       "version_minor": 0
      },
      "text/plain": [
       "Epoch:   0%|          | 0/2500 [00:00<?, ?it/s]"
      ]
     },
     "metadata": {},
     "output_type": "display_data"
    },
    {
     "data": {
      "application/vnd.jupyter.widget-view+json": {
       "model_id": "7dc3c2eba15540deb5d253d860072223",
       "version_major": 2,
       "version_minor": 0
      },
      "text/plain": [
       "Epoch:   0%|          | 0/2500 [00:00<?, ?it/s]"
      ]
     },
     "metadata": {},
     "output_type": "display_data"
    },
    {
     "name": "stdout",
     "output_type": "stream",
     "text": [
      "Iterations: 1.\n",
      "Time taken: 53206.054.\n",
      "Test mll: -2201.498. Test acc: 0.026.\n",
      "Train mll: -2277.064. Train acc: 0.026.\n",
      "\n"
     ]
    },
    {
     "data": {
      "application/vnd.jupyter.widget-view+json": {
       "model_id": "e21401b0490e4efabb9cf22082d75b34",
       "version_major": 2,
       "version_minor": 0
      },
      "text/plain": [
       "0it [00:00, ?it/s]"
      ]
     },
     "metadata": {},
     "output_type": "display_data"
    },
    {
     "data": {
      "application/vnd.jupyter.widget-view+json": {
       "model_id": "450c0d00e07948a48fb715807cb07777",
       "version_major": 2,
       "version_minor": 0
      },
      "text/plain": [
       "Epoch:   0%|          | 0/2500 [00:00<?, ?it/s]"
      ]
     },
     "metadata": {},
     "output_type": "display_data"
    },
    {
     "data": {
      "application/vnd.jupyter.widget-view+json": {
       "model_id": "b6d3b3ca2a424bf8b6e6cabe0694d302",
       "version_major": 2,
       "version_minor": 0
      },
      "text/plain": [
       "Epoch:   0%|          | 0/2500 [00:00<?, ?it/s]"
      ]
     },
     "metadata": {},
     "output_type": "display_data"
    },
    {
     "data": {
      "application/vnd.jupyter.widget-view+json": {
       "model_id": "e664bc6f740d44958c7501bf069280ce",
       "version_major": 2,
       "version_minor": 0
      },
      "text/plain": [
       "Epoch:   0%|          | 0/2500 [00:00<?, ?it/s]"
      ]
     },
     "metadata": {},
     "output_type": "display_data"
    },
    {
     "data": {
      "application/vnd.jupyter.widget-view+json": {
       "model_id": "6d57f19e97e94674b50873aaee5e5493",
       "version_major": 2,
       "version_minor": 0
      },
      "text/plain": [
       "Epoch:   0%|          | 0/2500 [00:00<?, ?it/s]"
      ]
     },
     "metadata": {},
     "output_type": "display_data"
    },
    {
     "data": {
      "application/vnd.jupyter.widget-view+json": {
       "model_id": "ddec8e77f06a490c992826a5d9a81a1c",
       "version_major": 2,
       "version_minor": 0
      },
      "text/plain": [
       "Epoch:   0%|          | 0/2500 [00:00<?, ?it/s]"
      ]
     },
     "metadata": {},
     "output_type": "display_data"
    },
    {
     "data": {
      "application/vnd.jupyter.widget-view+json": {
       "model_id": "663f853b02ee4bec954d74b2b2627667",
       "version_major": 2,
       "version_minor": 0
      },
      "text/plain": [
       "Epoch:   0%|          | 0/2500 [00:00<?, ?it/s]"
      ]
     },
     "metadata": {},
     "output_type": "display_data"
    },
    {
     "data": {
      "application/vnd.jupyter.widget-view+json": {
       "model_id": "79e9b9d88b764420a4f9f93b106d4c11",
       "version_major": 2,
       "version_minor": 0
      },
      "text/plain": [
       "Epoch:   0%|          | 0/2500 [00:00<?, ?it/s]"
      ]
     },
     "metadata": {},
     "output_type": "display_data"
    },
    {
     "data": {
      "application/vnd.jupyter.widget-view+json": {
       "model_id": "99c23d6f491e44c98bb2096f3c41c0c0",
       "version_major": 2,
       "version_minor": 0
      },
      "text/plain": [
       "Epoch:   0%|          | 0/2500 [00:00<?, ?it/s]"
      ]
     },
     "metadata": {},
     "output_type": "display_data"
    },
    {
     "data": {
      "application/vnd.jupyter.widget-view+json": {
       "model_id": "65ba1200dc774080855a10cf439911eb",
       "version_major": 2,
       "version_minor": 0
      },
      "text/plain": [
       "Epoch:   0%|          | 0/2500 [00:00<?, ?it/s]"
      ]
     },
     "metadata": {},
     "output_type": "display_data"
    },
    {
     "ename": "KeyboardInterrupt",
     "evalue": "",
     "output_type": "error",
     "traceback": [
      "\u001b[0;31m---------------------------------------------------------------------------\u001b[0m",
      "\u001b[0;31mKeyboardInterrupt\u001b[0m                         Traceback (most recent call last)",
      "Cell \u001b[0;32mIn[27], line 3\u001b[0m\n\u001b[1;32m      1\u001b[0m i \u001b[38;5;241m=\u001b[39m \u001b[38;5;241m0\u001b[39m\n\u001b[1;32m      2\u001b[0m \u001b[38;5;28;01mwhile\u001b[39;00m \u001b[38;5;129;01mnot\u001b[39;00m server\u001b[38;5;241m.\u001b[39mshould_stop():\n\u001b[0;32m----> 3\u001b[0m     server\u001b[38;5;241m.\u001b[39mtick()\n\u001b[1;32m      5\u001b[0m     \u001b[38;5;66;03m# Obtain performance metrics.\u001b[39;00m\n\u001b[1;32m      6\u001b[0m     metrics \u001b[38;5;241m=\u001b[39m server\u001b[38;5;241m.\u001b[39mlog[\u001b[38;5;124m\"\u001b[39m\u001b[38;5;124mperformance_metrics\u001b[39m\u001b[38;5;124m\"\u001b[39m][\u001b[38;5;241m-\u001b[39m\u001b[38;5;241m1\u001b[39m]\n",
      "File \u001b[0;32m~/Desktop/PVI-main/pvi/servers/base.py:103\u001b[0m, in \u001b[0;36mServer.tick\u001b[0;34m(self)\u001b[0m\n\u001b[1;32m    100\u001b[0m \u001b[38;5;28;01mif\u001b[39;00m \u001b[38;5;129;01mnot\u001b[39;00m \u001b[38;5;28mself\u001b[39m\u001b[38;5;241m.\u001b[39mtimer\u001b[38;5;241m.\u001b[39mstarted:\n\u001b[1;32m    101\u001b[0m     \u001b[38;5;28mself\u001b[39m\u001b[38;5;241m.\u001b[39mtimer\u001b[38;5;241m.\u001b[39mstart()\n\u001b[0;32m--> 103\u001b[0m \u001b[38;5;28mself\u001b[39m\u001b[38;5;241m.\u001b[39m_tick()\n\u001b[1;32m    105\u001b[0m \u001b[38;5;28mself\u001b[39m\u001b[38;5;241m.\u001b[39miterations \u001b[38;5;241m+\u001b[39m\u001b[38;5;241m=\u001b[39m \u001b[38;5;241m1\u001b[39m\n\u001b[1;32m    107\u001b[0m \u001b[38;5;66;03m# Update hyperparameters.\u001b[39;00m\n",
      "File \u001b[0;32m~/Desktop/PVI-main/pvi/servers/synchronous_server.py:32\u001b[0m, in \u001b[0;36mSynchronousServer._tick\u001b[0;34m(self)\u001b[0m\n\u001b[1;32m     30\u001b[0m     _, t_new \u001b[38;5;241m=\u001b[39m client\u001b[38;5;241m.\u001b[39mfit(\u001b[38;5;28mself\u001b[39m\u001b[38;5;241m.\u001b[39mq, \u001b[38;5;28mself\u001b[39m\u001b[38;5;241m.\u001b[39minit_q)\n\u001b[1;32m     31\u001b[0m \u001b[38;5;28;01melse\u001b[39;00m:\n\u001b[0;32m---> 32\u001b[0m     _, t_new \u001b[38;5;241m=\u001b[39m client\u001b[38;5;241m.\u001b[39mfit(\u001b[38;5;28mself\u001b[39m\u001b[38;5;241m.\u001b[39mq)\n\u001b[1;32m     34\u001b[0m t_olds\u001b[38;5;241m.\u001b[39mappend(t_old)\n\u001b[1;32m     35\u001b[0m t_news\u001b[38;5;241m.\u001b[39mappend(t_new)\n",
      "File \u001b[0;32m~/Desktop/PVI-main/pvi/clients/base.py:112\u001b[0m, in \u001b[0;36mClient.fit\u001b[0;34m(self, *args, **kwargs)\u001b[0m\n\u001b[1;32m    106\u001b[0m \u001b[38;5;28;01mdef\u001b[39;00m \u001b[38;5;21mfit\u001b[39m(\u001b[38;5;28mself\u001b[39m, \u001b[38;5;241m*\u001b[39margs, \u001b[38;5;241m*\u001b[39m\u001b[38;5;241m*\u001b[39mkwargs):\n\u001b[1;32m    107\u001b[0m \u001b[38;5;250m    \u001b[39m\u001b[38;5;124;03m\"\"\"\u001b[39;00m\n\u001b[1;32m    108\u001b[0m \u001b[38;5;124;03m    Computes the refined approximating posterior (q) and associated\u001b[39;00m\n\u001b[1;32m    109\u001b[0m \u001b[38;5;124;03m    approximating likelihood term (t). This method differs from client to\u001b[39;00m\n\u001b[1;32m    110\u001b[0m \u001b[38;5;124;03m    client, but in all cases it calls Client.q_update internally.\u001b[39;00m\n\u001b[1;32m    111\u001b[0m \u001b[38;5;124;03m    \"\"\"\u001b[39;00m\n\u001b[0;32m--> 112\u001b[0m     \u001b[38;5;28;01mreturn\u001b[39;00m \u001b[38;5;28mself\u001b[39m\u001b[38;5;241m.\u001b[39mupdate_q(\u001b[38;5;241m*\u001b[39margs, \u001b[38;5;241m*\u001b[39m\u001b[38;5;241m*\u001b[39mkwargs)\n",
      "File \u001b[0;32m~/Desktop/PVI-main/pvi/clients/base.py:132\u001b[0m, in \u001b[0;36mClient.update_q\u001b[0;34m(self, q, init_q, **kwargs)\u001b[0m\n\u001b[1;32m    129\u001b[0m     \u001b[38;5;28mself\u001b[39m\u001b[38;5;241m.\u001b[39mq, \u001b[38;5;28mself\u001b[39m\u001b[38;5;241m.\u001b[39mt \u001b[38;5;241m=\u001b[39m \u001b[38;5;28mself\u001b[39m\u001b[38;5;241m.\u001b[39mmodel\u001b[38;5;241m.\u001b[39mconjugate_update(\u001b[38;5;28mself\u001b[39m\u001b[38;5;241m.\u001b[39mdata, q, \u001b[38;5;28mself\u001b[39m\u001b[38;5;241m.\u001b[39mt)\n\u001b[1;32m    130\u001b[0m \u001b[38;5;28;01melse\u001b[39;00m:\n\u001b[1;32m    131\u001b[0m     \u001b[38;5;66;03m# Pass a trainable copy to optimise.\u001b[39;00m\n\u001b[0;32m--> 132\u001b[0m     \u001b[38;5;28mself\u001b[39m\u001b[38;5;241m.\u001b[39mq, \u001b[38;5;28mself\u001b[39m\u001b[38;5;241m.\u001b[39mt \u001b[38;5;241m=\u001b[39m \u001b[38;5;28mself\u001b[39m\u001b[38;5;241m.\u001b[39mgradient_based_update(p\u001b[38;5;241m=\u001b[39mq, init_q\u001b[38;5;241m=\u001b[39minit_q, \u001b[38;5;241m*\u001b[39m\u001b[38;5;241m*\u001b[39mkwargs)\n\u001b[1;32m    134\u001b[0m times \u001b[38;5;241m=\u001b[39m timer\u001b[38;5;241m.\u001b[39mget()\n\u001b[1;32m    135\u001b[0m \u001b[38;5;28mself\u001b[39m\u001b[38;5;241m.\u001b[39mlog[\u001b[38;5;124m\"\u001b[39m\u001b[38;5;124mupdate_time\u001b[39m\u001b[38;5;124m\"\u001b[39m]\u001b[38;5;241m.\u001b[39mappend(times)\n",
      "File \u001b[0;32m~/Desktop/PVI-main/pvi/clients/base.py:270\u001b[0m, in \u001b[0;36mClient.gradient_based_update\u001b[0;34m(self, p, init_q, **kwargs)\u001b[0m\n\u001b[1;32m    266\u001b[0m     kl5 \u001b[38;5;241m=\u001b[39m \u001b[38;5;241m0.\u001b[39m\n\u001b[1;32m    269\u001b[0m \u001b[38;5;66;03m# Sample θ from q and compute p(y | θ, x) for each θ\u001b[39;00m\n\u001b[0;32m--> 270\u001b[0m ll \u001b[38;5;241m=\u001b[39m \u001b[38;5;28mself\u001b[39m\u001b[38;5;241m.\u001b[39mmodel\u001b[38;5;241m.\u001b[39mexpected_log_likelihood(\n\u001b[1;32m    271\u001b[0m     batch, q, \u001b[38;5;28mself\u001b[39m\u001b[38;5;241m.\u001b[39mconfig[\u001b[38;5;124m\"\u001b[39m\u001b[38;5;124mnum_elbo_samples\u001b[39m\u001b[38;5;124m\"\u001b[39m]\n\u001b[1;32m    272\u001b[0m )\u001b[38;5;241m.\u001b[39msum()\n\u001b[1;32m    273\u001b[0m ll \u001b[38;5;241m/\u001b[39m\u001b[38;5;241m=\u001b[39m \u001b[38;5;28mlen\u001b[39m(x_batch)\n\u001b[1;32m    275\u001b[0m \u001b[38;5;66;03m# Compute E_q[log t(θ)].\u001b[39;00m\n\u001b[1;32m    276\u001b[0m \u001b[38;5;66;03m# logt = self.t.eqlogt(q, self.config[\"num_elbo_samples\"])\u001b[39;00m\n\u001b[1;32m    277\u001b[0m \u001b[38;5;66;03m# logt /= len(x)\u001b[39;00m\n",
      "File \u001b[0;32m~/Desktop/PVI-main/pvi/models/bnn/bnn.py:242\u001b[0m, in \u001b[0;36mFullyConnectedBNNLocalRepam.expected_log_likelihood\u001b[0;34m(self, data, q, num_samples)\u001b[0m\n\u001b[1;32m    239\u001b[0m x \u001b[38;5;241m=\u001b[39m data[\u001b[38;5;124m\"\u001b[39m\u001b[38;5;124mx\u001b[39m\u001b[38;5;124m\"\u001b[39m]\n\u001b[1;32m    240\u001b[0m y \u001b[38;5;241m=\u001b[39m data[\u001b[38;5;124m\"\u001b[39m\u001b[38;5;124my\u001b[39m\u001b[38;5;124m\"\u001b[39m]\n\u001b[0;32m--> 242\u001b[0m h \u001b[38;5;241m=\u001b[39m \u001b[38;5;28mself\u001b[39m\u001b[38;5;241m.\u001b[39mlocal_repam_forward(x, q, num_samples\u001b[38;5;241m=\u001b[39mnum_samples)\n\u001b[1;32m    243\u001b[0m qy \u001b[38;5;241m=\u001b[39m \u001b[38;5;28mself\u001b[39m\u001b[38;5;241m.\u001b[39mpred_dist_from_tensor(h, samples_first\u001b[38;5;241m=\u001b[39m\u001b[38;5;28;01mTrue\u001b[39;00m)\n\u001b[1;32m    245\u001b[0m \u001b[38;5;28;01mreturn\u001b[39;00m qy\u001b[38;5;241m.\u001b[39mlog_prob(y)\u001b[38;5;241m.\u001b[39mmean(\u001b[38;5;241m0\u001b[39m)\n",
      "File \u001b[0;32m~/Desktop/PVI-main/pvi/models/bnn/bnn.py:190\u001b[0m, in \u001b[0;36mFullyConnectedBNNLocalRepam.local_repam_forward\u001b[0;34m(self, x, q, num_samples)\u001b[0m\n\u001b[1;32m    185\u001b[0m \u001b[38;5;66;03m# Layer's q(h). Add jitter to scale to prevent numerical errors\u001b[39;00m\n\u001b[1;32m    186\u001b[0m \u001b[38;5;66;03m# during backward pass.\u001b[39;00m\n\u001b[1;32m    187\u001b[0m \u001b[38;5;66;03m# (batch_size, dim_out).\u001b[39;00m\n\u001b[1;32m    188\u001b[0m \u001b[38;5;66;03m#print(x.dtype, qw_loc.dtype)\u001b[39;00m\n\u001b[1;32m    189\u001b[0m qh_loc \u001b[38;5;241m=\u001b[39m x\u001b[38;5;241m.\u001b[39mmatmul(qw_loc)\n\u001b[0;32m--> 190\u001b[0m qh_scale \u001b[38;5;241m=\u001b[39m ((x \u001b[38;5;241m*\u001b[39m\u001b[38;5;241m*\u001b[39m \u001b[38;5;241m2\u001b[39m)\u001b[38;5;241m.\u001b[39mmatmul(qw_scale \u001b[38;5;241m*\u001b[39m\u001b[38;5;241m*\u001b[39m \u001b[38;5;241m2\u001b[39m) \u001b[38;5;241m+\u001b[39m \u001b[38;5;241m1e-6\u001b[39m) \u001b[38;5;241m*\u001b[39m\u001b[38;5;241m*\u001b[39m \u001b[38;5;241m0.5\u001b[39m\n\u001b[1;32m    192\u001b[0m \u001b[38;5;66;03m# Use different random sample for each datapoint to reduce\u001b[39;00m\n\u001b[1;32m    193\u001b[0m \u001b[38;5;66;03m# covariance.\u001b[39;00m\n\u001b[1;32m    194\u001b[0m \u001b[38;5;28;01mif\u001b[39;00m i \u001b[38;5;241m==\u001b[39m \u001b[38;5;241m0\u001b[39m:\n\u001b[1;32m    195\u001b[0m     \u001b[38;5;66;03m# (num_samples, batch_size, dim_out).\u001b[39;00m\n",
      "\u001b[0;31mKeyboardInterrupt\u001b[0m: "
     ]
    }
   ],
   "source": [
    "i = 0\n",
    "while not server.should_stop():\n",
    "    server.tick()\n",
    "\n",
    "    # Obtain performance metrics.\n",
    "    metrics = server.log[\"performance_metrics\"][-1]\n",
    "    print(\"Iterations: {}.\".format(i))\n",
    "    print(\"Time taken: {:.3f}.\".format(metrics[\"time\"]))\n",
    "    print(\n",
    "      \"Test mll: {:.3f}. Test acc: {:.3f}.\".format(\n",
    "          metrics[\"val_mll\"], metrics[\"val_acc\"]\n",
    "      )\n",
    "    )\n",
    "    print(\n",
    "      \"Train mll: {:.3f}. Train acc: {:.3f}.\\n\".format(\n",
    "          metrics[\"train_mll\"], metrics[\"train_acc\"]\n",
    "      )\n",
    "    )\n",
    "    i += 1"
   ]
  },
  {
   "cell_type": "code",
   "execution_count": 19,
   "id": "65b2dd83",
   "metadata": {},
   "outputs": [
    {
     "name": "stderr",
     "output_type": "stream",
     "text": [
      "/var/folders/6x/7wzwn4g54n38_8rfbfx611n00000gn/T/ipykernel_60876/1815298813.py:23: UserWarning: Matplotlib is currently using pgf, which is a non-GUI backend, so cannot show the figure.\n",
      "  plt.show()\n"
     ]
    }
   ],
   "source": [
    "train_acc = []\n",
    "val_acc = []\n",
    "times = []\n",
    "comms = []\n",
    "#train_acc.append(100.0)\n",
    "#val_acc.append(100.0)\n",
    "#times.append(1.0)\n",
    "#comms.append(0.1)\n",
    "for metrics in server.log[\"performance_metrics\"]:\n",
    "    train_acc.append(100-metrics[\"train_acc\"]*100)\n",
    "    val_acc.append(100-metrics[\"val_acc\"]*100)\n",
    "    times.append(metrics[\"time\"]/25)\n",
    "    comms.append(metrics[\"communications\"])\n",
    "plt.figure(figsize=(6,4))\n",
    "plt.xscale(\"log\")\n",
    "plt.yscale(\"log\")\n",
    "plt.plot(times, val_acc, linewidth=1, label=\"PVI\")\n",
    "plt.grid(visible=True)\n",
    "plt.xlabel(\"Average Time\")\n",
    "plt.ylabel(\"% Testing Error\")\n",
    "plt.legend(loc=\"upper right\", frameon=False)\n",
    "plt.savefig(\"K-49_PVI.pgf\", pad_inches=0)\n",
    "plt.show()"
   ]
  },
  {
   "cell_type": "code",
   "execution_count": null,
   "id": "ab494943",
   "metadata": {},
   "outputs": [],
   "source": []
  }
 ],
 "metadata": {
  "kernelspec": {
   "display_name": "Python 3 (ipykernel)",
   "language": "python",
   "name": "python3"
  },
  "language_info": {
   "codemirror_mode": {
    "name": "ipython",
    "version": 3
   },
   "file_extension": ".py",
   "mimetype": "text/x-python",
   "name": "python",
   "nbconvert_exporter": "python",
   "pygments_lexer": "ipython3",
   "version": "3.11.4"
  }
 },
 "nbformat": 4,
 "nbformat_minor": 5
}
