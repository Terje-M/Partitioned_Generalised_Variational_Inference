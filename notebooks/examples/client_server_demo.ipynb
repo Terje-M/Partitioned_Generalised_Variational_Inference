{
 "cells": [
  {
   "cell_type": "markdown",
   "id": "legal-creation",
   "metadata": {},
   "source": [
    "# PVI demo on the adult dataset\n",
    "Using the codebase splits as in <https://github.com/MrinankSharma/DP-PVI>"
   ]
  },
  {
   "cell_type": "code",
   "execution_count": 41,
   "id": "endless-freight",
   "metadata": {},
   "outputs": [
    {
     "name": "stdout",
     "output_type": "stream",
     "text": [
      "The autoreload extension is already loaded. To reload it, use:\n",
      "  %reload_ext autoreload\n"
     ]
    }
   ],
   "source": [
    "%load_ext autoreload\n",
    "%autoreload 2\n",
    "\n",
    "import os\n",
    "import sys\n",
    "import logging\n",
    "\n",
    "module_path = os.path.abspath(os.path.join(\"../..\"))\n",
    "if module_path not in sys.path:\n",
    "    sys.path.append(module_path)"
   ]
  },
  {
   "cell_type": "code",
   "execution_count": 42,
   "id": "theoretical-windsor",
   "metadata": {},
   "outputs": [],
   "source": [
    "from pvi.models.logistic_regression import LogisticRegressionModel\n",
    "from pvi.utils.gaussian import mvstandard2natural, mvnatural2standard\n",
    "\n",
    "#!!!Problem synchronous client is not defined!!!\n",
    "#from pvi.clients.synchronous_client import SynchronousClient\n",
    "#!!!Problem synchronous client is not defined!!!\n",
    "# Try instead:\n",
    "from pvi.clients.base import Client\n",
    "\n",
    "from pvi.servers.sequential_server import SequentialServer\n",
    "from pvi.distributions.exponential_family_distributions import \\\n",
    "    MultivariateGaussianDistribution, MeanFieldGaussianDistribution\n",
    "from pvi.distributions.exponential_family_factors import \\\n",
    "    MultivariateGaussianFactor, MeanFieldGaussianFactor\n",
    "\n",
    "import torch\n",
    "import numpy as np\n",
    "import matplotlib.pyplot as plt\n",
    "import tqdm.auto as tqdm\n",
    "\n",
    "from torch import nn\n",
    "\n",
    "%matplotlib inline\n",
    "torch.set_default_dtype(torch.float64)"
   ]
  },
  {
   "cell_type": "markdown",
   "id": "binary-browser",
   "metadata": {},
   "source": [
    "### Set up data and helper functions"
   ]
  },
  {
   "cell_type": "code",
   "execution_count": 43,
   "id": "divided-cannon",
   "metadata": {
    "tags": []
   },
   "outputs": [],
   "source": [
    "def generate_filename(name, scaled, ordinal_cat_encoding, data_base_dir):\n",
    "    filename_x = \"x\"\n",
    "    ret_y = data_base_dir + name + \"/y.csv\"\n",
    "    if scaled:\n",
    "        filename_x = filename_x + \"_scaled\"\n",
    "\n",
    "    if ordinal_cat_encoding:\n",
    "        filename_x = filename_x + \"_ordinal\"\n",
    "\n",
    "    filename_x = filename_x + \".csv\"\n",
    "    ret = os.path.join(data_base_dir, name, filename_x)\n",
    "    ret_y = os.path.join(data_base_dir, name, \"y.csv\")\n",
    "    \n",
    "    return ret, ret_y\n",
    "\n",
    "def load_data(name, scaled, ordinal_cat_encoding, train_proportion, data_base_dir):\n",
    "    x_loc, y_loc = generate_filename(name, scaled, ordinal_cat_encoding, data_base_dir)\n",
    "    x = np.loadtxt(x_loc, delimiter=\",\")\n",
    "    y = np.loadtxt(y_loc, delimiter=\",\")\n",
    "    \n",
    "    # Replace -1's with 0's.\n",
    "    y[y == -1] = 0\n",
    "    \n",
    "    N = x.shape[0]\n",
    "    N_train = int(np.ceil(train_proportion * N))\n",
    "    \n",
    "    x_train = x[0:N_train]\n",
    "    y_train = y[0:N_train]\n",
    "    x_test = x[N_train:]\n",
    "    y_test = y[N_train:]\n",
    "\n",
    "    training_set = {\n",
    "        \"x\": x_train,\n",
    "        \"y\": y_train,\n",
    "    }\n",
    "\n",
    "    test_set = {\n",
    "        \"x\": x_test,\n",
    "        \"y\": y_test\n",
    "    }\n",
    "\n",
    "    D = x_test.shape[1]\n",
    "\n",
    "    return training_set, test_set, D\n",
    "\n",
    "def generate_clients_data(x, y, M, client_size_factor, class_balance_factor, dataset_seed):\n",
    "        # this function ought to return a list of (x, y) tuples.\n",
    "        # you need to set the seed in the main experiment file to ensure that this function becomes deterministic\n",
    "\n",
    "        random_state = np.random.get_state()\n",
    "\n",
    "        if dataset_seed is not None:\n",
    "            np.random.seed(dataset_seed)\n",
    "\n",
    "        if M == 1:\n",
    "            client_data = [{\"x\": x, \"y\": y}]\n",
    "            N_is = [x.shape[0]]\n",
    "            props_positive = [np.mean(y > 0)]\n",
    "\n",
    "            return client_data, N_is, props_positive, M\n",
    "\n",
    "        if M % 2 != 0: raise ValueError('Num clients should be even for nice maths')\n",
    "\n",
    "        N = x.shape[0]\n",
    "        small_client_size = int(np.floor((1 - client_size_factor) * N/M))\n",
    "        big_client_size = int(np.floor((1 + client_size_factor) * N/M))\n",
    "\n",
    "        class_balance = np.mean(y == 0)\n",
    "\n",
    "        small_client_class_balance = class_balance + (1 - class_balance) * class_balance_factor\n",
    "        small_client_negative_class_size = int(np.floor(small_client_size * small_client_class_balance))\n",
    "        small_client_positive_class_size = int(small_client_size - small_client_negative_class_size)\n",
    "\n",
    "        if small_client_negative_class_size < 0: raise ValueError('small_client_negative_class_size is negative, invalid settings.')\n",
    "        if small_client_positive_class_size < 0: raise ValueError('small_client_positive_class_size is negative, invalid settings.')\n",
    "\n",
    "\n",
    "        if small_client_negative_class_size * M/2 > class_balance * N:\n",
    "            raise ValueError(f'Not enough negative class instances to fill the small clients. Client size factor:{client_size_factor}, class balance factor:{class_balance_factor}')\n",
    "\n",
    "        if small_client_positive_class_size * M/2 > (1-class_balance) * N:\n",
    "            raise ValueError(f'Not enough positive class instances to fill the small clients. Client size factor:{client_size_factor}, class balance factor:{class_balance_factor}')\n",
    "\n",
    "\n",
    "        pos_inds = np.where(y > 0)\n",
    "        zero_inds = np.where(y == 0)\n",
    "        \n",
    "        assert (len(pos_inds[0]) + len(zero_inds[0])) == len(y), \"Some indeces missed.\"\n",
    "        \n",
    "        print(f'x shape {x.shape}')\n",
    "        print(f'positive indices {pos_inds}')\n",
    "        print(f'zero indices {zero_inds}')\n",
    "\n",
    "        y_pos = y[pos_inds]\n",
    "        y_neg = y[zero_inds]\n",
    "\n",
    "        x_pos = x[pos_inds]\n",
    "        x_neg = x[zero_inds]\n",
    "\n",
    "        client_data = []\n",
    "\n",
    "        # Populate small classes.\n",
    "        for i in range(int(M/2)):\n",
    "            client_x_pos = x_pos[:small_client_positive_class_size]\n",
    "            x_pos = x_pos[small_client_positive_class_size:]\n",
    "            client_y_pos = y_pos[:small_client_positive_class_size]\n",
    "            y_pos = y_pos[small_client_positive_class_size:]\n",
    "\n",
    "            client_x_neg = x_neg[:small_client_negative_class_size]\n",
    "            x_neg = x_neg[small_client_negative_class_size:]\n",
    "            client_y_neg = y_neg[:small_client_negative_class_size]\n",
    "            y_neg = y_neg[small_client_negative_class_size:]\n",
    "\n",
    "            client_x = np.concatenate([client_x_pos, client_x_neg])\n",
    "            client_y = np.concatenate([client_y_pos, client_y_neg])\n",
    "\n",
    "            shuffle_inds = np.random.permutation(client_x.shape[0])\n",
    "\n",
    "            client_x = client_x[shuffle_inds, :]\n",
    "            client_y = client_y[shuffle_inds]\n",
    "\n",
    "            client_data.append({'x': client_x, 'y': client_y})\n",
    "\n",
    "        # Recombine remaining data and shuffle.\n",
    "\n",
    "        x = np.concatenate([x_pos, x_neg])\n",
    "        y = np.concatenate([y_pos, y_neg])\n",
    "        shuffle_inds = np.random.permutation(x.shape[0])\n",
    "\n",
    "        x = x[shuffle_inds]\n",
    "        y = y[shuffle_inds]\n",
    "\n",
    "        # Distribute among large clients.\n",
    "        for i in range(int(M/2)):\n",
    "            client_x = x[:big_client_size]\n",
    "            client_y = y[:big_client_size]\n",
    "\n",
    "            x = x[big_client_size:]\n",
    "            y = y[big_client_size:]\n",
    "\n",
    "            client_data.append({'x': client_x, 'y': client_y})\n",
    "\n",
    "        N_is = [data['x'].shape[0] for data in client_data]\n",
    "        props_positive = [np.mean(data['y'] > 0) for data in client_data]\n",
    "\n",
    "        np.random.set_state(random_state)\n",
    "\n",
    "        print(f'N_is {N_is}')\n",
    "        print(f'Props positive: {props_positive}')\n",
    "\n",
    "        return client_data, N_is, props_positive, M"
   ]
  },
  {
   "cell_type": "code",
   "execution_count": 44,
   "id": "naval-jason",
   "metadata": {},
   "outputs": [
    {
     "name": "stdout",
     "output_type": "stream",
     "text": [
      "24421\n"
     ]
    }
   ],
   "source": [
    "name = \"adult\"\n",
    "scaled = True\n",
    "ordinal_cat_encoding = True\n",
    "train_proportion = 0.75\n",
    "data_base_dir = \"/Users/terjemildner/Desktop/PVI-main/data\"\n",
    "\n",
    "training_set, test_set, D = load_data(\n",
    "    name, scaled, ordinal_cat_encoding, train_proportion, data_base_dir)\n",
    "print(len(training_set['x']))"
   ]
  },
  {
   "cell_type": "code",
   "execution_count": 45,
   "id": "chief-death",
   "metadata": {},
   "outputs": [
    {
     "name": "stdout",
     "output_type": "stream",
     "text": [
      "x shape (24421, 14)\n",
      "positive indices (array([    4,     8,    12, ..., 24409, 24410, 24412]),)\n",
      "zero indices (array([    0,     1,     2, ..., 24418, 24419, 24420]),)\n",
      "N_is [2442, 2442, 2442, 2442, 2442, 2442, 2442, 2442, 2442, 2442]\n",
      "Props positive: [0.24324324324324326, 0.24324324324324326, 0.24324324324324326, 0.24324324324324326, 0.24324324324324326, 0.23996723996723995, 0.24283374283374284, 0.24242424242424243, 0.23546273546273547, 0.25184275184275184]\n"
     ]
    }
   ],
   "source": [
    "M = 10\n",
    "\n",
    "clients_data, nis, prop_positive, M = generate_clients_data(\n",
    "    training_set[\"x\"], \n",
    "    training_set[\"y\"],\n",
    "    M=M,\n",
    "    client_size_factor=0,\n",
    "    class_balance_factor=0,\n",
    "    dataset_seed=0,\n",
    ")"
   ]
  },
  {
   "cell_type": "markdown",
   "id": "later-runner",
   "metadata": {},
   "source": [
    "### Set up clients"
   ]
  },
  {
   "cell_type": "code",
   "execution_count": 46,
   "id": "cutting-inflation",
   "metadata": {
    "scrolled": true
   },
   "outputs": [],
   "source": [
    "clients = []\n",
    "\n",
    "# Shared across all clients.\n",
    "hyperparameters = {\n",
    "    \"D\": D,\n",
    "    \"optimiser\": \"Adam\",\n",
    "    \"optimiser_params\": {\"lr\": 1e-2},\n",
    "    \"epochs\": 1000,\n",
    "    \"batch_size\": 100,\n",
    "    \"num_elbo_samples\": 100,\n",
    "    \"num_predictive_samples\": 10\n",
    "}\n",
    "\n",
    "prior_std_params = {\n",
    "    \"loc\": torch.zeros(hyperparameters[\"D\"] + 1),\n",
    "    \"scale\": torch.ones(hyperparameters[\"D\"] + 1),\n",
    "}\n",
    "\n",
    "init_nat_params = {\n",
    "    \"np1\": torch.zeros(hyperparameters[\"D\"] + 1),\n",
    "    \"np2\": torch.zeros(hyperparameters[\"D\"] + 1),\n",
    "}\n",
    "\n",
    "# Construct clients.\n",
    "for i in range(M):\n",
    "    model_i = LogisticRegressionModel(hyperparameters=hyperparameters)\n",
    "    data_i = clients_data[i]\n",
    "    t_i = MeanFieldGaussianFactor(nat_params=init_nat_params)\n",
    "    \n",
    "    # Convert to torch.tensor.\n",
    "    for k, v in data_i.items():\n",
    "        data_i[k] = torch.tensor(v)\n",
    "    \n",
    "    # clients.append(SynchronousClient(data=data_i, model=model_i, t=t_i))\n",
    "    clients.append(Client(data=data_i, model=model_i, t=t_i))"
   ]
  },
  {
   "cell_type": "code",
   "execution_count": 47,
   "id": "accepting-mistress",
   "metadata": {},
   "outputs": [],
   "source": [
    "# Construct server.\n",
    "model = LogisticRegressionModel(hyperparameters=hyperparameters)\n",
    "q = MeanFieldGaussianDistribution(std_params=prior_std_params, is_trainable=False)\n",
    "server = SequentialServer(model=model, p=q, clients=clients)"
   ]
  },
  {
   "cell_type": "markdown",
   "id": "cross-lingerie",
   "metadata": {},
   "source": [
    "### Run PVI!"
   ]
  },
  {
   "cell_type": "code",
   "execution_count": 48,
   "id": "identical-memphis",
   "metadata": {},
   "outputs": [
    {
     "data": {
      "application/vnd.jupyter.widget-view+json": {
       "model_id": "",
       "version_major": 2,
       "version_minor": 0
      },
      "text/plain": [
       "0it [00:00, ?it/s]"
      ]
     },
     "metadata": {},
     "output_type": "display_data"
    },
    {
     "name": "stdout",
     "output_type": "stream",
     "text": [
      "0.8680589680589681\n"
     ]
    },
    {
     "data": {
      "application/vnd.jupyter.widget-view+json": {
       "model_id": "",
       "version_major": 2,
       "version_minor": 0
      },
      "text/plain": [
       "0it [00:00, ?it/s]"
      ]
     },
     "metadata": {},
     "output_type": "display_data"
    },
    {
     "name": "stdout",
     "output_type": "stream",
     "text": [
      "0.8714987714987715\n"
     ]
    },
    {
     "data": {
      "application/vnd.jupyter.widget-view+json": {
       "model_id": "",
       "version_major": 2,
       "version_minor": 0
      },
      "text/plain": [
       "0it [00:00, ?it/s]"
      ]
     },
     "metadata": {},
     "output_type": "display_data"
    },
    {
     "name": "stdout",
     "output_type": "stream",
     "text": [
      "0.8621621621621621\n"
     ]
    },
    {
     "data": {
      "application/vnd.jupyter.widget-view+json": {
       "model_id": "",
       "version_major": 2,
       "version_minor": 0
      },
      "text/plain": [
       "0it [00:00, ?it/s]"
      ]
     },
     "metadata": {},
     "output_type": "display_data"
    },
    {
     "name": "stdout",
     "output_type": "stream",
     "text": [
      "0.8816953316953317\n"
     ]
    },
    {
     "data": {
      "application/vnd.jupyter.widget-view+json": {
       "model_id": "",
       "version_major": 2,
       "version_minor": 0
      },
      "text/plain": [
       "0it [00:00, ?it/s]"
      ]
     },
     "metadata": {},
     "output_type": "display_data"
    },
    {
     "name": "stdout",
     "output_type": "stream",
     "text": [
      "0.8756756756756757\n"
     ]
    },
    {
     "data": {
      "application/vnd.jupyter.widget-view+json": {
       "model_id": "",
       "version_major": 2,
       "version_minor": 0
      },
      "text/plain": [
       "0it [00:00, ?it/s]"
      ]
     },
     "metadata": {},
     "output_type": "display_data"
    },
    {
     "name": "stdout",
     "output_type": "stream",
     "text": [
      "0.878009828009828\n"
     ]
    },
    {
     "data": {
      "application/vnd.jupyter.widget-view+json": {
       "model_id": "",
       "version_major": 2,
       "version_minor": 0
      },
      "text/plain": [
       "0it [00:00, ?it/s]"
      ]
     },
     "metadata": {},
     "output_type": "display_data"
    },
    {
     "name": "stdout",
     "output_type": "stream",
     "text": [
      "0.8660933660933661\n"
     ]
    },
    {
     "data": {
      "application/vnd.jupyter.widget-view+json": {
       "model_id": "",
       "version_major": 2,
       "version_minor": 0
      },
      "text/plain": [
       "0it [00:00, ?it/s]"
      ]
     },
     "metadata": {},
     "output_type": "display_data"
    },
    {
     "name": "stdout",
     "output_type": "stream",
     "text": [
      "0.8746928746928747\n"
     ]
    },
    {
     "data": {
      "application/vnd.jupyter.widget-view+json": {
       "model_id": "",
       "version_major": 2,
       "version_minor": 0
      },
      "text/plain": [
       "0it [00:00, ?it/s]"
      ]
     },
     "metadata": {},
     "output_type": "display_data"
    },
    {
     "name": "stdout",
     "output_type": "stream",
     "text": [
      "0.8733415233415234\n"
     ]
    },
    {
     "data": {
      "application/vnd.jupyter.widget-view+json": {
       "model_id": "",
       "version_major": 2,
       "version_minor": 0
      },
      "text/plain": [
       "0it [00:00, ?it/s]"
      ]
     },
     "metadata": {},
     "output_type": "display_data"
    },
    {
     "name": "stdout",
     "output_type": "stream",
     "text": [
      "0.8769041769041769\n"
     ]
    },
    {
     "data": {
      "application/vnd.jupyter.widget-view+json": {
       "model_id": "",
       "version_major": 2,
       "version_minor": 0
      },
      "text/plain": [
       "0it [00:00, ?it/s]"
      ]
     },
     "metadata": {},
     "output_type": "display_data"
    },
    {
     "name": "stdout",
     "output_type": "stream",
     "text": [
      "0.8724815724815724\n"
     ]
    },
    {
     "data": {
      "application/vnd.jupyter.widget-view+json": {
       "model_id": "",
       "version_major": 2,
       "version_minor": 0
      },
      "text/plain": [
       "0it [00:00, ?it/s]"
      ]
     },
     "metadata": {},
     "output_type": "display_data"
    },
    {
     "name": "stdout",
     "output_type": "stream",
     "text": [
      "0.8605651105651105\n"
     ]
    },
    {
     "data": {
      "application/vnd.jupyter.widget-view+json": {
       "model_id": "",
       "version_major": 2,
       "version_minor": 0
      },
      "text/plain": [
       "0it [00:00, ?it/s]"
      ]
     },
     "metadata": {},
     "output_type": "display_data"
    },
    {
     "name": "stdout",
     "output_type": "stream",
     "text": [
      "0.8678132678132678\n"
     ]
    },
    {
     "data": {
      "application/vnd.jupyter.widget-view+json": {
       "model_id": "",
       "version_major": 2,
       "version_minor": 0
      },
      "text/plain": [
       "0it [00:00, ?it/s]"
      ]
     },
     "metadata": {},
     "output_type": "display_data"
    },
    {
     "name": "stdout",
     "output_type": "stream",
     "text": [
      "0.8606879606879607\n"
     ]
    },
    {
     "data": {
      "application/vnd.jupyter.widget-view+json": {
       "model_id": "",
       "version_major": 2,
       "version_minor": 0
      },
      "text/plain": [
       "0it [00:00, ?it/s]"
      ]
     },
     "metadata": {},
     "output_type": "display_data"
    },
    {
     "name": "stdout",
     "output_type": "stream",
     "text": [
      "0.8986486486486487\n"
     ]
    },
    {
     "data": {
      "application/vnd.jupyter.widget-view+json": {
       "model_id": "",
       "version_major": 2,
       "version_minor": 0
      },
      "text/plain": [
       "0it [00:00, ?it/s]"
      ]
     },
     "metadata": {},
     "output_type": "display_data"
    },
    {
     "name": "stdout",
     "output_type": "stream",
     "text": [
      "0.8642506142506142\n"
     ]
    },
    {
     "data": {
      "application/vnd.jupyter.widget-view+json": {
       "model_id": "",
       "version_major": 2,
       "version_minor": 0
      },
      "text/plain": [
       "0it [00:00, ?it/s]"
      ]
     },
     "metadata": {},
     "output_type": "display_data"
    },
    {
     "name": "stdout",
     "output_type": "stream",
     "text": [
      "0.871007371007371\n"
     ]
    },
    {
     "data": {
      "application/vnd.jupyter.widget-view+json": {
       "model_id": "",
       "version_major": 2,
       "version_minor": 0
      },
      "text/plain": [
       "0it [00:00, ?it/s]"
      ]
     },
     "metadata": {},
     "output_type": "display_data"
    },
    {
     "name": "stdout",
     "output_type": "stream",
     "text": [
      "0.8644963144963145\n"
     ]
    },
    {
     "data": {
      "application/vnd.jupyter.widget-view+json": {
       "model_id": "",
       "version_major": 2,
       "version_minor": 0
      },
      "text/plain": [
       "0it [00:00, ?it/s]"
      ]
     },
     "metadata": {},
     "output_type": "display_data"
    },
    {
     "name": "stdout",
     "output_type": "stream",
     "text": [
      "0.8891891891891892\n"
     ]
    },
    {
     "data": {
      "application/vnd.jupyter.widget-view+json": {
       "model_id": "",
       "version_major": 2,
       "version_minor": 0
      },
      "text/plain": [
       "0it [00:00, ?it/s]"
      ]
     },
     "metadata": {},
     "output_type": "display_data"
    },
    {
     "name": "stdout",
     "output_type": "stream",
     "text": [
      "0.8735872235872236\n"
     ]
    },
    {
     "data": {
      "application/vnd.jupyter.widget-view+json": {
       "model_id": "",
       "version_major": 2,
       "version_minor": 0
      },
      "text/plain": [
       "0it [00:00, ?it/s]"
      ]
     },
     "metadata": {},
     "output_type": "display_data"
    },
    {
     "name": "stdout",
     "output_type": "stream",
     "text": [
      "0.8832923832923832\n"
     ]
    },
    {
     "data": {
      "application/vnd.jupyter.widget-view+json": {
       "model_id": "",
       "version_major": 2,
       "version_minor": 0
      },
      "text/plain": [
       "0it [00:00, ?it/s]"
      ]
     },
     "metadata": {},
     "output_type": "display_data"
    },
    {
     "name": "stdout",
     "output_type": "stream",
     "text": [
      "0.8702702702702703\n"
     ]
    },
    {
     "data": {
      "application/vnd.jupyter.widget-view+json": {
       "model_id": "",
       "version_major": 2,
       "version_minor": 0
      },
      "text/plain": [
       "0it [00:00, ?it/s]"
      ]
     },
     "metadata": {},
     "output_type": "display_data"
    },
    {
     "name": "stdout",
     "output_type": "stream",
     "text": [
      "0.8555282555282555\n"
     ]
    },
    {
     "data": {
      "application/vnd.jupyter.widget-view+json": {
       "model_id": "",
       "version_major": 2,
       "version_minor": 0
      },
      "text/plain": [
       "0it [00:00, ?it/s]"
      ]
     },
     "metadata": {},
     "output_type": "display_data"
    },
    {
     "name": "stdout",
     "output_type": "stream",
     "text": [
      "0.8658476658476658\n"
     ]
    },
    {
     "data": {
      "application/vnd.jupyter.widget-view+json": {
       "model_id": "",
       "version_major": 2,
       "version_minor": 0
      },
      "text/plain": [
       "0it [00:00, ?it/s]"
      ]
     },
     "metadata": {},
     "output_type": "display_data"
    },
    {
     "name": "stdout",
     "output_type": "stream",
     "text": [
      "0.8646191646191647\n"
     ]
    }
   ],
   "source": [
    "while not server.should_stop():\n",
    "    server.tick()\n",
    "\n",
    "    # Obtain predictions.\n",
    "    pp = server.model_predict(torch.tensor(test_set[\"x\"]))\n",
    "    preds = pp.mean.detach().numpy()\n",
    "    test_acc = np.sum(\n",
    "        np.abs(2 * (preds > 0.5) - 1 + test_set[\"y\"]) > 0) / np.size(test_set[\"y\"])\n",
    "    \n",
    "    print(test_acc)"
   ]
  },
  {
   "cell_type": "code",
   "execution_count": 49,
   "id": "magnetic-musical",
   "metadata": {},
   "outputs": [],
   "source": [
    "def plot_training(training_array, ax=None):\n",
    "    x_vals = np.arange(1, len(training_array)+1)\n",
    "    print(training_array)\n",
    "    if ax is None:\n",
    "        plt.figure()\n",
    "        ax = plt.gca()\n",
    "        \n",
    "    ax.grid(visible=True)\n",
    "    ax.plot(x_vals, training_array)\n",
    "    ax.set_xlabel('Step')\n",
    "    \n",
    "    if ax is None:\n",
    "        plt.show()"
   ]
  },
  {
   "cell_type": "code",
   "execution_count": 58,
   "id": "increasing-peeing",
   "metadata": {},
   "outputs": [],
   "source": [
    "logs = server.get_compiled_log()"
   ]
  },
  {
   "cell_type": "code",
   "execution_count": 52,
   "id": "affiliated-midnight",
   "metadata": {},
   "outputs": [
    {
     "name": "stdout",
     "output_type": "stream",
     "text": [
      "defaultdict(<class 'list'>, {'training_curves': [defaultdict(<class 'list'>, {'elbo': [0.2764916835512618], 'kl': [-0.6853669900642175], 'll': [-0.40887530651295584], 'logt': [0.0]}), defaultdict(<class 'list'>, {'elbo': [1.337797747130814], 'kl': [-1.744533195711628], 'll': [-0.4067354485808138], 'logt': [0.0]}), defaultdict(<class 'list'>, {'elbo': [2.259633121262843], 'kl': [-2.667351312815337], 'll': [-0.40771819155249406], 'logt': [0.0]}), defaultdict(<class 'list'>, {'elbo': [1.36341385135389], 'kl': [-1.7699591223751334], 'll': [-0.40654527102124355], 'logt': [0.0]}), defaultdict(<class 'list'>, {'elbo': [1.7264419707086078], 'kl': [-2.1388981757843255], 'll': [-0.4124562050757179], 'logt': [0.0]}), defaultdict(<class 'list'>, {'elbo': [1.9820965597250615], 'kl': [-2.392385978529198], 'll': [-0.41028941880413644], 'logt': [0.0]}), defaultdict(<class 'list'>, {'elbo': [2.059191806162171], 'kl': [-2.4746850491265104], 'll': [-0.4154932429643397], 'logt': [0.0]}), defaultdict(<class 'list'>, {'elbo': [1.3958926802468001], 'kl': [-1.8044146956484182], 'll': [-0.4085220154016179], 'logt': [0.0]}), defaultdict(<class 'list'>, {'elbo': [1.780562683037631], 'kl': [-2.1928446354091924], 'll': [-0.4122819523715612], 'logt': [0.0]}), defaultdict(<class 'list'>, {'elbo': [2.2304036134542256], 'kl': [-2.6478735555565183], 'll': [-0.4174699421022923], 'logt': [0.0]}), defaultdict(<class 'list'>, {'elbo': [2.714398493029992], 'kl': [-3.1196828542409794], 'll': [-0.40528436121098615], 'logt': [0.0]}), defaultdict(<class 'list'>, {'elbo': [0.9068727622141508], 'kl': [-1.3188876024373193], 'll': [-0.41201484022316853], 'logt': [0.0]}), defaultdict(<class 'list'>, {'elbo': [1.3140669162102518], 'kl': [-1.7210317361016898], 'll': [-0.4069648198914376], 'logt': [0.0]}), defaultdict(<class 'list'>, {'elbo': [1.8080702944214317], 'kl': [-2.2328552332410476], 'll': [-0.4247849388196155], 'logt': [0.0]}), defaultdict(<class 'list'>, {'elbo': [2.69272747734657], 'kl': [-3.116635270375001], 'll': [-0.4239077930284305], 'logt': [0.0]}), defaultdict(<class 'list'>, {'elbo': [1.738197338691222], 'kl': [-2.153337107743711], 'll': [-0.4151397690524887], 'logt': [0.0]}), defaultdict(<class 'list'>, {'elbo': [2.030696177849578], 'kl': [-2.4428139680156944], 'll': [-0.41211779016611655], 'logt': [0.0]}), defaultdict(<class 'list'>, {'elbo': [2.7953061398621095], 'kl': [-3.2100166438416498], 'll': [-0.41471050397954007], 'logt': [0.0]}), defaultdict(<class 'list'>, {'elbo': [2.8733596034127538], 'kl': [-3.553989202519576], 'll': [-0.680629599106822], 'logt': [0.0]}), defaultdict(<class 'list'>, {'elbo': [3.223015065164996], 'kl': [-3.7218345960699533], 'll': [-0.498819530904958], 'logt': [0.0]}), defaultdict(<class 'list'>, {'elbo': [1.2382303580036502], 'kl': [-1.6553778824620262], 'll': [-0.41714752445837566], 'logt': [0.0]}), defaultdict(<class 'list'>, {'elbo': [2.1016106539150963], 'kl': [-2.51124796816767], 'll': [-0.4096373142525746], 'logt': [0.0]}), defaultdict(<class 'list'>, {'elbo': [1.774127604987541], 'kl': [-2.1924879375111197], 'll': [-0.41836033252357874], 'logt': [0.0]}), defaultdict(<class 'list'>, {'elbo': [1.6325930479653408], 'kl': [-2.0447486851649015], 'll': [-0.4121556371995609], 'logt': [0.0]}), defaultdict(<class 'list'>, {'elbo': [2.519076042533586], 'kl': [-2.926874544041931], 'll': [-0.4077985015083443], 'logt': [0.0]})], 'performance_curves': [defaultdict(<class 'list'>, {}), defaultdict(<class 'list'>, {}), defaultdict(<class 'list'>, {}), defaultdict(<class 'list'>, {}), defaultdict(<class 'list'>, {}), defaultdict(<class 'list'>, {}), defaultdict(<class 'list'>, {}), defaultdict(<class 'list'>, {}), defaultdict(<class 'list'>, {}), defaultdict(<class 'list'>, {}), defaultdict(<class 'list'>, {}), defaultdict(<class 'list'>, {}), defaultdict(<class 'list'>, {}), defaultdict(<class 'list'>, {}), defaultdict(<class 'list'>, {}), defaultdict(<class 'list'>, {}), defaultdict(<class 'list'>, {}), defaultdict(<class 'list'>, {}), defaultdict(<class 'list'>, {}), defaultdict(<class 'list'>, {}), defaultdict(<class 'list'>, {}), defaultdict(<class 'list'>, {}), defaultdict(<class 'list'>, {}), defaultdict(<class 'list'>, {}), defaultdict(<class 'list'>, {})], 'update_time': [{'time': 0.016594886779785156, 'perf_counter': 0.016595166991464794, 'process_time': 0.016593999999997777}, {'time': 0.016510963439941406, 'perf_counter': 0.016511291993083432, 'process_time': 0.016511000000001275}, {'time': 0.01776719093322754, 'perf_counter': 0.017767207988072187, 'process_time': 0.01776299999999864}, {'time': 0.016998291015625, 'perf_counter': 0.016998459002934396, 'process_time': 0.016998999999998432}, {'time': 0.016968965530395508, 'perf_counter': 0.01696920898393728, 'process_time': 0.01696999999999349}, {'time': 0.01720595359802246, 'perf_counter': 0.01720595799270086, 'process_time': 0.017204999999997028}, {'time': 0.016941070556640625, 'perf_counter': 0.01694166599190794, 'process_time': 0.01694199999999313}, {'time': 0.01697707176208496, 'perf_counter': 0.016976665996480733, 'process_time': 0.016976999999997133}, {'time': 0.016811847686767578, 'perf_counter': 0.016811709007015452, 'process_time': 0.016812000000001603}, {'time': 0.016753196716308594, 'perf_counter': 0.01675249999971129, 'process_time': 0.016752000000003875}, {'time': 0.016726970672607422, 'perf_counter': 0.016728209011489525, 'process_time': 0.016728999999997995}, {'time': 0.017313003540039062, 'perf_counter': 0.017312790994765237, 'process_time': 0.017313000000001466}, {'time': 0.01755809783935547, 'perf_counter': 0.017558416002430022, 'process_time': 0.017557000000003598}, {'time': 0.016700029373168945, 'perf_counter': 0.016700624983059242, 'process_time': 0.01670000000000016}, {'time': 0.016728878021240234, 'perf_counter': 0.016728624992538244, 'process_time': 0.016722999999998933}, {'time': 0.016603946685791016, 'perf_counter': 0.016604125004960224, 'process_time': 0.01660400000000095}, {'time': 0.016345977783203125, 'perf_counter': 0.016345709009328857, 'process_time': 0.01634599999999864}, {'time': 0.016813039779663086, 'perf_counter': 0.0168134999985341, 'process_time': 0.01681299999999908}, {'time': 0.01674509048461914, 'perf_counter': 0.016744833992561325, 'process_time': 0.016745000000000232}, {'time': 0.01663804054260254, 'perf_counter': 0.016638417000649497, 'process_time': 0.016638000000000375}, {'time': 0.01637411117553711, 'perf_counter': 0.01637454199953936, 'process_time': 0.01637500000000358}, {'time': 0.016414880752563477, 'perf_counter': 0.01641524999286048, 'process_time': 0.01641499999999496}, {'time': 0.016851186752319336, 'perf_counter': 0.016851541004143655, 'process_time': 0.01685200000000009}, {'time': 0.016611814498901367, 'perf_counter': 0.01661279099062085, 'process_time': 0.016612999999999545}, {'time': 0.01685619354248047, 'perf_counter': 0.016856417001690716, 'process_time': 0.016857000000001676}]})\n",
      "client  0\n",
      "defaultdict(<class 'list'>, {'elbo': [-1.0765711240989104], 'kl': [0.001074734534122498], 'll': [-1.0754963895647878], 'logt': [0.0]})\n",
      "=======================\n",
      "[-1.0765711240989104]\n",
      "defaultdict(<class 'list'>, {'elbo': [0.4488836484635933], 'kl': [-0.8472353676864715], 'll': [-0.39835171922287843], 'logt': [0.0]})\n",
      "=======================\n",
      "[0.4488836484635933]\n",
      "defaultdict(<class 'list'>, {'elbo': [1.3148675387414617], 'kl': [-1.716176931770343], 'll': [-0.4013093930288815], 'logt': [0.0]})\n",
      "=======================\n",
      "[1.3148675387414617]\n",
      "defaultdict(<class 'list'>, {'elbo': [2.1774128635419028], 'kl': [-2.5833360421260654], 'll': [-0.4059231785841621], 'logt': [0.0]})\n",
      "=======================\n",
      "[2.1774128635419028]\n",
      "defaultdict(<class 'list'>, {'elbo': [1.0298610093360323], 'kl': [-1.430223535921985], 'll': [-0.4003625265859523], 'logt': [0.0]})\n",
      "=======================\n",
      "[1.0298610093360323]\n",
      "defaultdict(<class 'list'>, {'elbo': [2.1892690126952505], 'kl': [-2.593944388329201], 'll': [-0.40467537563394945], 'logt': [0.0]})\n",
      "=======================\n",
      "[2.1892690126952505]\n",
      "defaultdict(<class 'list'>, {'elbo': [2.0627639791751853], 'kl': [-2.466028082557569], 'll': [-0.4032641033823831], 'logt': [0.0]})\n",
      "=======================\n",
      "[2.0627639791751853]\n",
      "defaultdict(<class 'list'>, {'elbo': [2.2044508886580125], 'kl': [-2.6050180324945997], 'll': [-0.4005671438365885], 'logt': [0.0]})\n",
      "=======================\n",
      "[2.2044508886580125]\n",
      "client  1\n",
      "defaultdict(<class 'list'>, {'elbo': [-0.5646358754108398], 'kl': [0.0017751721258100332], 'll': [-0.5628607032850298], 'logt': [0.0]})\n",
      "=======================\n",
      "[-0.5646358754108398]\n",
      "defaultdict(<class 'list'>, {'elbo': [0.8409024296274156], 'kl': [-1.2411370794520213], 'll': [-0.4002346498246059], 'logt': [0.0]})\n",
      "=======================\n",
      "[0.8409024296274156]\n",
      "defaultdict(<class 'list'>, {'elbo': [1.273233579317237], 'kl': [-1.6758614973801913], 'll': [-0.40262791806295434], 'logt': [0.0]})\n",
      "=======================\n",
      "[1.273233579317237]\n",
      "defaultdict(<class 'list'>, {'elbo': [2.3115953293623295], 'kl': [-2.711689365680454], 'll': [-0.40009403631812535], 'logt': [0.0]})\n",
      "=======================\n",
      "[2.3115953293623295]\n",
      "defaultdict(<class 'list'>, {'elbo': [0.5966036812943818], 'kl': [-0.9950959202361647], 'll': [-0.3984922389417829], 'logt': [0.0]})\n",
      "=======================\n",
      "[0.5966036812943818]\n",
      "defaultdict(<class 'list'>, {'elbo': [1.9300034813000566], 'kl': [-2.3288616538690783], 'll': [-0.3988581725690219], 'logt': [0.0]})\n",
      "=======================\n",
      "[1.9300034813000566]\n",
      "defaultdict(<class 'list'>, {'elbo': [2.090921139920349], 'kl': [-2.487950035558268], 'll': [-0.3970288956379188], 'logt': [0.0]})\n",
      "=======================\n",
      "[2.090921139920349]\n",
      "defaultdict(<class 'list'>, {'elbo': [1.9311536899336226], 'kl': [-2.3283767257702253], 'll': [-0.39722303583660185], 'logt': [0.0]})\n",
      "=======================\n",
      "[1.9311536899336226]\n",
      "client  2\n",
      "defaultdict(<class 'list'>, {'elbo': [-0.4404105465036021], 'kl': [-0.005291299145737666], 'll': [-0.44570184564933996], 'logt': [0.0]})\n",
      "=======================\n",
      "[-0.4404105465036021]\n",
      "defaultdict(<class 'list'>, {'elbo': [1.1001453026255275], 'kl': [-1.4815353767552513], 'll': [-0.3813900741297233], 'logt': [0.0]})\n",
      "=======================\n",
      "[1.1001453026255275]\n",
      "defaultdict(<class 'list'>, {'elbo': [1.2583442290261477], 'kl': [-1.6410639114692283], 'll': [-0.38271968244308074], 'logt': [0.0]})\n",
      "=======================\n",
      "[1.2583442290261477]\n",
      "defaultdict(<class 'list'>, {'elbo': [2.5371752962535306], 'kl': [-2.9205990002549034], 'll': [-0.38342370400137354], 'logt': [0.0]})\n",
      "=======================\n",
      "[2.5371752962535306]\n",
      "defaultdict(<class 'list'>, {'elbo': [0.8871810921598323], 'kl': [-1.2719343355637522], 'll': [-0.3847532434039201], 'logt': [0.0]})\n",
      "=======================\n",
      "[0.8871810921598323]\n",
      "defaultdict(<class 'list'>, {'elbo': [1.8990754726312191], 'kl': [-2.283441326520819], 'll': [-0.38436585388959943], 'logt': [0.0]})\n",
      "=======================\n",
      "[1.8990754726312191]\n",
      "defaultdict(<class 'list'>, {'elbo': [2.385794967217198], 'kl': [-2.7711902091795673], 'll': [-0.3853952419623689], 'logt': [0.0]})\n",
      "=======================\n",
      "[2.385794967217198]\n",
      "defaultdict(<class 'list'>, {'elbo': [1.7078367804042032], 'kl': [-2.0989808711457574], 'll': [-0.3911440907415544], 'logt': [0.0]})\n",
      "=======================\n",
      "[1.7078367804042032]\n",
      "client  3\n",
      "defaultdict(<class 'list'>, {'elbo': [-0.385975233867311], 'kl': [-0.019894802951123416], 'll': [-0.4058700368184343], 'logt': [0.0]})\n",
      "=======================\n",
      "[-0.385975233867311]\n",
      "defaultdict(<class 'list'>, {'elbo': [1.3489288414012501], 'kl': [-1.721663585957599], 'll': [-0.3727347445563492], 'logt': [0.0]})\n",
      "=======================\n",
      "[1.3489288414012501]\n",
      "defaultdict(<class 'list'>, {'elbo': [1.4665637610092555], 'kl': [-1.8416968921083055], 'll': [-0.37513313109905005], 'logt': [0.0]})\n",
      "=======================\n",
      "[1.4665637610092555]\n",
      "defaultdict(<class 'list'>, {'elbo': [2.455801342365976], 'kl': [-2.838619333098906], 'll': [-0.38281799073293005], 'logt': [0.0]})\n",
      "=======================\n",
      "[2.455801342365976]\n",
      "defaultdict(<class 'list'>, {'elbo': [1.1647293468109483], 'kl': [-1.540400836458051], 'll': [-0.37567148964710256], 'logt': [0.0]})\n",
      "=======================\n",
      "[1.1647293468109483]\n",
      "defaultdict(<class 'list'>, {'elbo': [1.6074398560814325], 'kl': [-1.9853079653641459], 'll': [-0.37786810928271325], 'logt': [0.0]})\n",
      "=======================\n",
      "[1.6074398560814325]\n",
      "defaultdict(<class 'list'>, {'elbo': [2.4345655755185533], 'kl': [-2.8170449780018108], 'll': [-0.3824794024832573], 'logt': [0.0]})\n",
      "=======================\n",
      "[2.4345655755185533]\n",
      "defaultdict(<class 'list'>, {'elbo': [1.361391261353907], 'kl': [-1.7379681435732992], 'll': [-0.37657688221939256], 'logt': [0.0]})\n",
      "=======================\n",
      "[1.361391261353907]\n",
      "client  4\n",
      "defaultdict(<class 'list'>, {'elbo': [-0.34857365424843645], 'kl': [-0.05252696496576003], 'll': [-0.40110061921419665], 'logt': [0.0]})\n",
      "=======================\n",
      "[-0.34857365424843645]\n",
      "defaultdict(<class 'list'>, {'elbo': [1.4965904174751858], 'kl': [-1.8791266135046536], 'll': [-0.3825361960294674], 'logt': [0.0]})\n",
      "=======================\n",
      "[1.4965904174751858]\n",
      "defaultdict(<class 'list'>, {'elbo': [1.6459573711148787], 'kl': [-2.0348437725551456], 'll': [-0.38888640144026604], 'logt': [0.0]})\n",
      "=======================\n",
      "[1.6459573711148787]\n",
      "defaultdict(<class 'list'>, {'elbo': [2.0053897111616847], 'kl': [-2.396274844806524], 'll': [-0.39088513364483946], 'logt': [0.0]})\n",
      "=======================\n",
      "[2.0053897111616847]\n",
      "defaultdict(<class 'list'>, {'elbo': [1.4895405640688741], 'kl': [-1.8816848588059987], 'll': [-0.39214429473712464], 'logt': [0.0]})\n",
      "=======================\n",
      "[1.4895405640688741]\n",
      "defaultdict(<class 'list'>, {'elbo': [1.5767708260227358], 'kl': [-1.9652511040276106], 'll': [-0.3884802780048754], 'logt': [0.0]})\n",
      "=======================\n",
      "[1.5767708260227358]\n",
      "defaultdict(<class 'list'>, {'elbo': [2.120057370784751], 'kl': [-2.5032370491086127], 'll': [-0.38317967832386096], 'logt': [0.0]})\n",
      "=======================\n",
      "[2.120057370784751]\n",
      "defaultdict(<class 'list'>, {'elbo': [1.4103348993761553], 'kl': [-1.7997551913679801], 'll': [-0.3894202919918247], 'logt': [0.0]})\n",
      "=======================\n",
      "[1.4103348993761553]\n",
      "client  5\n",
      "defaultdict(<class 'list'>, {'elbo': [-0.30654950119724356], 'kl': [-0.09431542038033737], 'll': [-0.40086492157758086], 'logt': [0.0]})\n",
      "=======================\n",
      "[-0.30654950119724356]\n",
      "defaultdict(<class 'list'>, {'elbo': [1.4123839782710672], 'kl': [-1.803150365575537], 'll': [-0.3907663873044699], 'logt': [0.0]})\n",
      "=======================\n",
      "[1.4123839782710672]\n",
      "defaultdict(<class 'list'>, {'elbo': [1.6899137106984103], 'kl': [-2.0819773834481192], 'll': [-0.39206367274970894], 'logt': [0.0]})\n",
      "=======================\n",
      "[1.6899137106984103]\n",
      "defaultdict(<class 'list'>, {'elbo': [1.815495287664881], 'kl': [-2.216950312023772], 'll': [-0.4014550243588909], 'logt': [0.0]})\n",
      "=======================\n",
      "[1.815495287664881]\n",
      "defaultdict(<class 'list'>, {'elbo': [1.6876070069634566], 'kl': [-2.0960402202780117], 'll': [-0.4084332133145554], 'logt': [0.0]})\n",
      "=======================\n",
      "[1.6876070069634566]\n",
      "defaultdict(<class 'list'>, {'elbo': [1.783754529840503], 'kl': [-2.179746986573814], 'll': [-0.39599245673331074], 'logt': [0.0]})\n",
      "=======================\n",
      "[1.783754529840503]\n",
      "defaultdict(<class 'list'>, {'elbo': [2.029223324689053], 'kl': [-2.429378918690969], 'll': [-0.400155594001916], 'logt': [0.0]})\n",
      "=======================\n",
      "[2.029223324689053]\n",
      "defaultdict(<class 'list'>, {'elbo': [1.5230105784624774], 'kl': [-1.922778883716735], 'll': [-0.39976830525425733], 'logt': [0.0]})\n",
      "=======================\n",
      "[1.5230105784624774]\n",
      "client  6\n",
      "defaultdict(<class 'list'>, {'elbo': [-0.20789793741301593], 'kl': [-0.20013095663811808], 'll': [-0.4080288940511341], 'logt': [0.0]})\n",
      "=======================\n",
      "[-0.20789793741301593]\n",
      "defaultdict(<class 'list'>, {'elbo': [1.5649959945750136], 'kl': [-1.97288732825803], 'll': [-0.4078913336830163], 'logt': [0.0]})\n",
      "=======================\n",
      "[1.5649959945750136]\n",
      "defaultdict(<class 'list'>, {'elbo': [1.5757789584945694], 'kl': [-1.9813495297095423], 'll': [-0.4055705712149716], 'logt': [0.0]})\n",
      "=======================\n",
      "[1.5757789584945694]\n",
      "defaultdict(<class 'list'>, {'elbo': [1.6244931910798015], 'kl': [-2.033967892644236], 'll': [-0.40947470156443383], 'logt': [0.0]})\n",
      "=======================\n",
      "[1.6244931910798015]\n",
      "defaultdict(<class 'list'>, {'elbo': [2.0268649914365438], 'kl': [-2.438205931436378], 'll': [-0.41134093999983407], 'logt': [0.0]})\n",
      "=======================\n",
      "[2.0268649914365438]\n",
      "defaultdict(<class 'list'>, {'elbo': [1.7475060298691896], 'kl': [-2.156544611799104], 'll': [-0.40903858192991405], 'logt': [0.0]})\n",
      "=======================\n",
      "[1.7475060298691896]\n",
      "defaultdict(<class 'list'>, {'elbo': [1.7309738460304156], 'kl': [-2.1352242297664885], 'll': [-0.4042503837360727], 'logt': [0.0]})\n",
      "=======================\n",
      "[1.7309738460304156]\n",
      "defaultdict(<class 'list'>, {'elbo': [1.3640571882415078], 'kl': [-1.7716293098917821], 'll': [-0.40757212165027396], 'logt': [0.0]})\n",
      "=======================\n",
      "[1.3640571882415078]\n",
      "client  7\n",
      "defaultdict(<class 'list'>, {'elbo': [-0.06212014688308814], 'kl': [-0.31855589961093994], 'll': [-0.380676046494028], 'logt': [0.0]})\n",
      "=======================\n",
      "[-0.06212014688308814]\n",
      "defaultdict(<class 'list'>, {'elbo': [1.6966801236966442], 'kl': [-2.0760844395499913], 'll': [-0.37940431585334694], 'logt': [0.0]})\n",
      "=======================\n",
      "[1.6966801236966442]\n",
      "defaultdict(<class 'list'>, {'elbo': [1.7753727283606737], 'kl': [-2.149153955966017], 'll': [-0.3737812276053433], 'logt': [0.0]})\n",
      "=======================\n",
      "[1.7753727283606737]\n",
      "defaultdict(<class 'list'>, {'elbo': [1.329321541274398], 'kl': [-1.7087666170424962], 'll': [-0.3794450757680988], 'logt': [0.0]})\n",
      "=======================\n",
      "[1.329321541274398]\n",
      "defaultdict(<class 'list'>, {'elbo': [1.7922222372290468], 'kl': [-2.1660274338390506], 'll': [-0.3738051966100034], 'logt': [0.0]})\n",
      "=======================\n",
      "[1.7922222372290468]\n",
      "defaultdict(<class 'list'>, {'elbo': [2.3285460313781905], 'kl': [-2.7033232516915504], 'll': [-0.37477722031336036], 'logt': [0.0]})\n",
      "=======================\n",
      "[2.3285460313781905]\n",
      "defaultdict(<class 'list'>, {'elbo': [2.169478307634879], 'kl': [-2.541092982328307], 'll': [-0.3716146746934269], 'logt': [0.0]})\n",
      "=======================\n",
      "[2.169478307634879]\n",
      "defaultdict(<class 'list'>, {'elbo': [1.1950091545889383], 'kl': [-1.5779991798545796], 'll': [-0.38299002526564085], 'logt': [0.0]})\n",
      "=======================\n",
      "[1.1950091545889383]\n",
      "client  8\n",
      "defaultdict(<class 'list'>, {'elbo': [0.13113383314992774], 'kl': [-0.5248278892511675], 'll': [-0.3936940561012396], 'logt': [0.0]})\n",
      "=======================\n",
      "[0.13113383314992774]\n",
      "defaultdict(<class 'list'>, {'elbo': [1.653257759769491], 'kl': [-2.0352827679526975], 'll': [-0.3820250081832066], 'logt': [0.0]})\n",
      "=======================\n",
      "[1.653257759769491]\n",
      "defaultdict(<class 'list'>, {'elbo': [2.170545371428473], 'kl': [-2.55277399894258], 'll': [-0.38222862751410697], 'logt': [0.0]})\n",
      "=======================\n",
      "[2.170545371428473]\n",
      "defaultdict(<class 'list'>, {'elbo': [1.2871422543216535], 'kl': [-1.6676814829280302], 'll': [-0.3805392286063766], 'logt': [0.0]})\n",
      "=======================\n",
      "[1.2871422543216535]\n",
      "defaultdict(<class 'list'>, {'elbo': [1.4033288077200827], 'kl': [-1.791858983995966], 'll': [-0.38853017627588354], 'logt': [0.0]})\n",
      "=======================\n",
      "[1.4033288077200827]\n",
      "defaultdict(<class 'list'>, {'elbo': [2.154836138183597], 'kl': [-2.539677997876261], 'll': [-0.38484185969266477], 'logt': [0.0]})\n",
      "=======================\n",
      "[2.154836138183597]\n",
      "defaultdict(<class 'list'>, {'elbo': [2.2223014542679516], 'kl': [-2.6043839176719343], 'll': [-0.3820824634039823], 'logt': [0.0]})\n",
      "=======================\n",
      "[2.2223014542679516]\n",
      "defaultdict(<class 'list'>, {'elbo': [1.3173053787239148], 'kl': [-1.7072068886663179], 'll': [-0.3899015099424031], 'logt': [0.0]})\n",
      "=======================\n",
      "[1.3173053787239148]\n",
      "client  9\n",
      "defaultdict(<class 'list'>, {'elbo': [0.2764916835512618], 'kl': [-0.6853669900642175], 'll': [-0.40887530651295584], 'logt': [0.0]})\n",
      "=======================\n",
      "[0.2764916835512618]\n",
      "defaultdict(<class 'list'>, {'elbo': [1.337797747130814], 'kl': [-1.744533195711628], 'll': [-0.4067354485808138], 'logt': [0.0]})\n",
      "=======================\n",
      "[1.337797747130814]\n",
      "defaultdict(<class 'list'>, {'elbo': [2.259633121262843], 'kl': [-2.667351312815337], 'll': [-0.40771819155249406], 'logt': [0.0]})\n",
      "=======================\n",
      "[2.259633121262843]\n",
      "defaultdict(<class 'list'>, {'elbo': [1.36341385135389], 'kl': [-1.7699591223751334], 'll': [-0.40654527102124355], 'logt': [0.0]})\n",
      "=======================\n",
      "[1.36341385135389]\n",
      "defaultdict(<class 'list'>, {'elbo': [1.7264419707086078], 'kl': [-2.1388981757843255], 'll': [-0.4124562050757179], 'logt': [0.0]})\n",
      "=======================\n",
      "[1.7264419707086078]\n",
      "defaultdict(<class 'list'>, {'elbo': [1.9820965597250615], 'kl': [-2.392385978529198], 'll': [-0.41028941880413644], 'logt': [0.0]})\n",
      "=======================\n",
      "[1.9820965597250615]\n",
      "defaultdict(<class 'list'>, {'elbo': [2.059191806162171], 'kl': [-2.4746850491265104], 'll': [-0.4154932429643397], 'logt': [0.0]})\n",
      "=======================\n",
      "[2.059191806162171]\n",
      "defaultdict(<class 'list'>, {'elbo': [1.3958926802468001], 'kl': [-1.8044146956484182], 'll': [-0.4085220154016179], 'logt': [0.0]})\n",
      "=======================\n",
      "[1.3958926802468001]\n"
     ]
    },
    {
     "data": {
      "image/png": "[encoded data removed]",
      "text/plain": [
       "<Figure size 2400x5000 with 80 Axes>"
      ]
     },
     "metadata": {},
     "output_type": "display_data"
    }
   ],
   "source": [
    "nrows = len(clients)\n",
    "ncols = 8\n",
    "\n",
    "fig, axes = plt.subplots(figsize=(ncols*3, nrows*5), nrows=nrows, ncols=ncols, sharey=\"row\")\n",
    "\n",
    "print(client.log)\n",
    "for i, client in enumerate(server.clients):\n",
    "    print(\"client \", i)\n",
    "    for j in range(ncols):\n",
    "        ax = axes[i, j]\n",
    "        \n",
    "        print(logs[f\"client_{i}\"][\"training_curves\"][j])\n",
    "        print(\"=======================\")\n",
    "        plot_training(logs[f\"client_{i}\"][\"training_curves\"][j][\"elbo\"], ax)\n",
    "        \n",
    "    axes[i, 0].set_ylabel(\"Client {}\".format(i))\n",
    "    \n",
    "for j in range(ncols):\n",
    "    axes[0, j].set_title(\"Iteration {}\".format(j))\n",
    "        \n",
    "        \n",
    "plt.show()"
   ]
  },
  {
   "cell_type": "code",
   "execution_count": null,
   "id": "variable-awareness",
   "metadata": {},
   "outputs": [],
   "source": []
  }
 ],
 "metadata": {
  "kernelspec": {
   "display_name": "Python 3 (ipykernel)",
   "language": "python",
   "name": "python3"
  },
  "language_info": {
   "codemirror_mode": {
    "name": "ipython",
    "version": 3
   },
   "file_extension": ".py",
   "mimetype": "text/x-python",
   "name": "python",
   "nbconvert_exporter": "python",
   "pygments_lexer": "ipython3",
   "version": "3.11.4"
  }
 },
 "nbformat": 4,
 "nbformat_minor": 5
}
