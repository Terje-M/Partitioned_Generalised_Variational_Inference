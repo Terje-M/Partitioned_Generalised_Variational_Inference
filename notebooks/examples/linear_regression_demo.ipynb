{
 "cells": [
  {
   "cell_type": "code",
   "execution_count": 1,
   "id": "lucky-penetration",
   "metadata": {},
   "outputs": [],
   "source": [
    "%load_ext autoreload\n",
    "%autoreload 2\n",
    "\n",
    "import os\n",
    "import sys\n",
    "import logging\n",
    "\n",
    "module_path = os.path.abspath(os.path.join(\"../..\"))\n",
    "if module_path not in sys.path:\n",
    "    sys.path.append(module_path)"
   ]
  },
  {
   "cell_type": "code",
   "execution_count": 2,
   "id": "acknowledged-engine",
   "metadata": {},
   "outputs": [],
   "source": [
    "from pvi.models import LinearRegressionModel\n",
    "from pvi.clients import Client\n",
    "from pvi.distributions import MultivariateGaussianDistribution\n",
    "from pvi.distributions import MultivariateGaussianFactor\n",
    "\n",
    "import torch\n",
    "import numpy as np\n",
    "import matplotlib.pyplot as plt\n",
    "import tqdm.auto as tqdm\n",
    "\n",
    "from torch import nn\n",
    "\n",
    "%matplotlib inline\n",
    "torch.set_default_dtype(torch.float64)"
   ]
  },
  {
   "cell_type": "markdown",
   "id": "synthetic-attitude",
   "metadata": {},
   "source": [
    "# Set up data and helper functions"
   ]
  },
  {
   "cell_type": "code",
   "execution_count": 3,
   "id": "adaptive-oliver",
   "metadata": {},
   "outputs": [],
   "source": [
    "x = np.linspace(-1, 1, 10)\n",
    "y = 2 * x + 3 * np.abs(x) * np.random.rand(len(x))\n",
    "\n",
    "x = torch.tensor(x).unsqueeze(1)\n",
    "y = torch.tensor(y).unsqueeze(1)"
   ]
  },
  {
   "cell_type": "code",
   "execution_count": 4,
   "id": "forbidden-crime",
   "metadata": {},
   "outputs": [],
   "source": [
    "def plot_data(x, y):\n",
    "    plt.figure()\n",
    "    plt.grid(visible=True)\n",
    "    plt.scatter(x, y)\n",
    "    plt.show()\n",
    "\n",
    "# grid(b=...) was deprecated and has since been replaced with grid(visible=...), all change in this box\n",
    "# worked since changing and not throwing an error message since\n",
    "\n",
    "def plot_results(x, y, model, q):\n",
    "    pp = model(x, q)\n",
    "    mean = pp.mean.detach()\n",
    "    std = pp.variance.detach() ** 0.5\n",
    "    \n",
    "    w_samples = q.distribution.sample((20,))\n",
    "    \n",
    "    plt.figure()\n",
    "    plt.grid(visible=True)\n",
    "    \n",
    "    for w in w_samples:\n",
    "        plt.plot(x, x * w[0] + w[1], color='k', alpha=.1)\n",
    "        \n",
    "    plt.plot(x.squeeze(-1), mean)\n",
    "    plt.fill_between(x.squeeze(-1), mean-1.96*std, mean+1.96*std, alpha=.25)\n",
    "    plt.scatter(x, y)\n",
    "    plt.show()\n",
    "    \n",
    "def plot_training(training_array):\n",
    "    x_vals = np.arange(1, len(training_array)+1)\n",
    "    plt.figure()\n",
    "    plt.grid(visible=True)\n",
    "    plt.plot(x_vals, training_array)\n",
    "    plt.ylabel('ELBO Loss')\n",
    "    plt.xlabel('Step')\n",
    "    plt.show()\n",
    "    \n",
    "data = {\n",
    "    \"x\": x,\n",
    "    \"y\": y,\n",
    "}"
   ]
  },
  {
   "cell_type": "code",
   "execution_count": 5,
   "id": "indoor-dating",
   "metadata": {},
   "outputs": [
    {
     "data": {
      "image/png": "[encoded data removed]",
      "text/plain": [
       "<Figure size 640x480 with 1 Axes>"
      ]
     },
     "metadata": {},
     "output_type": "display_data"
    }
   ],
   "source": [
    "plot_data(x, y)"
   ]
  },
  {
   "cell_type": "markdown",
   "id": "agreed-amazon",
   "metadata": {},
   "source": [
    "# Construct linear regression model"
   ]
  },
  {
   "cell_type": "code",
   "execution_count": 30,
   "id": "polish-terry",
   "metadata": {},
   "outputs": [
    {
     "name": "stderr",
     "output_type": "stream",
     "text": [
      "/Users/terjemildner/Desktop/PVI-main/pvi/models/linear_regression.py:30: UserWarning: To copy construct from a tensor, it is recommended to use sourceTensor.clone().detach() or sourceTensor.clone().detach().requires_grad_(True), rather than torch.tensor(sourceTensor).\n",
      "  torch.tensor(self.hyperparameters[\"outputsigma\"]).log())\n"
     ]
    }
   ],
   "source": [
    "model_config = {\n",
    "    \"D\": 1,\n",
    "}\n",
    "\n",
    "model_hyperparameters = {\n",
    "    \"outputsigma\": torch.tensor(.25),\n",
    "}\n",
    "\n",
    "model = LinearRegressionModel(train_sigma=False, config=model_config, hyperparameters=model_hyperparameters)\n",
    "\n",
    "q = MultivariateGaussianDistribution(\n",
    "    nat_params={\n",
    "        \"np1\": torch.zeros(model_config[\"D\"]+1), #Two dimensional tensor [0., 0.] == mean\n",
    "        \"np2\": -0.5 * torch.eye(model_config[\"D\"]+1) #Two-by-two dimensional tensor, Identity matrix_2 times -0.5 == variance\n",
    "    }\n",
    ")"
   ]
  },
  {
   "cell_type": "code",
   "execution_count": 31,
   "id": "f738d579",
   "metadata": {},
   "outputs": [
    {
     "name": "stdout",
     "output_type": "stream",
     "text": [
      "tensor([[0.],\n",
      "        [0.]])\n"
     ]
    }
   ],
   "source": [
    "print(q.nat_params[\"np1\"].unsqueeze(-1))"
   ]
  },
  {
   "cell_type": "code",
   "execution_count": 32,
   "id": "3d2990f6",
   "metadata": {},
   "outputs": [
    {
     "name": "stdout",
     "output_type": "stream",
     "text": [
      "================= Round =================\n",
      "For torch.linalg.solve args: \n",
      "Arg 2: q.nat_params['np1'].unsqueeze(-1):  tensor([[0.],\n",
      "        [0.]])\n",
      "Arg 1: prec:  tensor([[1., 0.],\n",
      "        [0., 1.]])\n",
      "Solved equation mu_1:  tensor([[0.],\n",
      "        [0.]])\n",
      "Getting the first arguemnet of mu_1 through mu_1[0]: tensor([0.])\n",
      "Squeeze mu_2 for it's last dimension? mu_2.squeeze(-1):  tensor(0.)\n",
      "x:  tensor([[-1.0000],\n",
      "        [-0.7778],\n",
      "        [-0.5556],\n",
      "        [-0.3333],\n",
      "        [-0.1111],\n",
      "        [ 0.1111],\n",
      "        [ 0.3333],\n",
      "        [ 0.5556],\n",
      "        [ 0.7778],\n",
      "        [ 1.0000]])\n",
      "x_ is the following:  tensor([[-1.0000,  1.0000],\n",
      "        [-0.7778,  1.0000],\n",
      "        [-0.5556,  1.0000],\n",
      "        [-0.3333,  1.0000],\n",
      "        [-0.1111,  1.0000],\n",
      "        [ 0.1111,  1.0000],\n",
      "        [ 0.3333,  1.0000],\n",
      "        [ 0.5556,  1.0000],\n",
      "        [ 0.7778,  1.0000],\n",
      "        [ 1.0000,  1.0000]])\n",
      "Do matrix multiplication between x_ and mu_1: x_.matmul(mu_1)\n",
      "The results of the matmul operator ppmu:  tensor([[0.],\n",
      "        [0.],\n",
      "        [0.],\n",
      "        [0.],\n",
      "        [0.],\n",
      "        [0.],\n",
      "        [0.],\n",
      "        [0.],\n",
      "        [0.],\n",
      "        [0.]])\n",
      "ppvar:  tensor([2.0000, 1.7778, 1.5556, 1.3333, 1.1111, 0.8889, 0.6667, 0.4444, 0.2222,\n",
      "        0.0000])\n",
      "ppvar shape: torch.Size([10])\n",
      "================= End Round =================\n"
     ]
    },
    {
     "ename": "ValueError",
     "evalue": "Expected parameter scale (Tensor of shape (10,)) of distribution Normal(loc: torch.Size([10]), scale: torch.Size([10])) to satisfy the constraint GreaterThan(lower_bound=0.0), but found invalid values:\ntensor([1.4142, 1.3333, 1.2472, 1.1547, 1.0541, 0.9428, 0.8165, 0.6667, 0.4714,\n        0.0000])",
     "output_type": "error",
     "traceback": [
      "\u001b[0;31m---------------------------------------------------------------------------\u001b[0m",
      "\u001b[0;31mValueError\u001b[0m                                Traceback (most recent call last)",
      "Cell \u001b[0;32mIn[32], line 1\u001b[0m\n\u001b[0;32m----> 1\u001b[0m model\u001b[38;5;241m.\u001b[39mforward(x, q)\n",
      "File \u001b[0;32m~/Desktop/PVI-main/pvi/models/linear_regression.py:125\u001b[0m, in \u001b[0;36mLinearRegressionModel.forward\u001b[0;34m(self, x, q, **kwargs)\u001b[0m\n\u001b[1;32m    121\u001b[0m \u001b[38;5;28;01mdef\u001b[39;00m \u001b[38;5;21mlikelihood_forward\u001b[39m(\u001b[38;5;28mself\u001b[39m, x, theta, \u001b[38;5;241m*\u001b[39m\u001b[38;5;241m*\u001b[39mkwargs):\n\u001b[1;32m    122\u001b[0m \u001b[38;5;250m    \u001b[39m\u001b[38;5;124;03m\"\"\"\u001b[39;00m\n\u001b[1;32m    123\u001b[0m \u001b[38;5;124;03m    Returns the model's likelihood p(y | θ, x).\u001b[39;00m\n\u001b[1;32m    124\u001b[0m \u001b[38;5;124;03m    :param x: The input locations to make predictions at, (*, D).\u001b[39;00m\n\u001b[0;32m--> 125\u001b[0m \u001b[38;5;124;03m    :param theta: The latent variables of the model, (*, D + 1).\u001b[39;00m\n\u001b[1;32m    126\u001b[0m \u001b[38;5;124;03m    :return: p(y | θ, x)\u001b[39;00m\n\u001b[1;32m    127\u001b[0m \u001b[38;5;124;03m    \"\"\"\u001b[39;00m\n\u001b[1;32m    128\u001b[0m     \u001b[38;5;28;01massert\u001b[39;00m \u001b[38;5;28mlen\u001b[39m(x\u001b[38;5;241m.\u001b[39mshape) \u001b[38;5;129;01min\u001b[39;00m [\u001b[38;5;241m1\u001b[39m, \u001b[38;5;241m2\u001b[39m], \u001b[38;5;124m\"\u001b[39m\u001b[38;5;124mx must be (*, D).\u001b[39m\u001b[38;5;124m\"\u001b[39m\n\u001b[1;32m    129\u001b[0m     \u001b[38;5;28;01massert\u001b[39;00m \u001b[38;5;28mlen\u001b[39m(x\u001b[38;5;241m.\u001b[39mshape) \u001b[38;5;129;01min\u001b[39;00m [\u001b[38;5;241m1\u001b[39m, \u001b[38;5;241m2\u001b[39m], \u001b[38;5;124m\"\u001b[39m\u001b[38;5;124mtheta must be (*, D).\u001b[39m\u001b[38;5;124m\"\u001b[39m\n",
      "File \u001b[0;32m~/anaconda3/lib/python3.11/site-packages/torch/distributions/normal.py:56\u001b[0m, in \u001b[0;36mNormal.__init__\u001b[0;34m(self, loc, scale, validate_args)\u001b[0m\n\u001b[1;32m     54\u001b[0m \u001b[38;5;28;01melse\u001b[39;00m:\n\u001b[1;32m     55\u001b[0m     batch_shape \u001b[38;5;241m=\u001b[39m \u001b[38;5;28mself\u001b[39m\u001b[38;5;241m.\u001b[39mloc\u001b[38;5;241m.\u001b[39msize()\n\u001b[0;32m---> 56\u001b[0m \u001b[38;5;28msuper\u001b[39m()\u001b[38;5;241m.\u001b[39m\u001b[38;5;21m__init__\u001b[39m(batch_shape, validate_args\u001b[38;5;241m=\u001b[39mvalidate_args)\n",
      "File \u001b[0;32m~/anaconda3/lib/python3.11/site-packages/torch/distributions/distribution.py:68\u001b[0m, in \u001b[0;36mDistribution.__init__\u001b[0;34m(self, batch_shape, event_shape, validate_args)\u001b[0m\n\u001b[1;32m     66\u001b[0m         valid \u001b[38;5;241m=\u001b[39m constraint\u001b[38;5;241m.\u001b[39mcheck(value)\n\u001b[1;32m     67\u001b[0m         \u001b[38;5;28;01mif\u001b[39;00m \u001b[38;5;129;01mnot\u001b[39;00m valid\u001b[38;5;241m.\u001b[39mall():\n\u001b[0;32m---> 68\u001b[0m             \u001b[38;5;28;01mraise\u001b[39;00m \u001b[38;5;167;01mValueError\u001b[39;00m(\n\u001b[1;32m     69\u001b[0m                 \u001b[38;5;124mf\u001b[39m\u001b[38;5;124m\"\u001b[39m\u001b[38;5;124mExpected parameter \u001b[39m\u001b[38;5;132;01m{\u001b[39;00mparam\u001b[38;5;132;01m}\u001b[39;00m\u001b[38;5;124m \u001b[39m\u001b[38;5;124m\"\u001b[39m\n\u001b[1;32m     70\u001b[0m                 \u001b[38;5;124mf\u001b[39m\u001b[38;5;124m\"\u001b[39m\u001b[38;5;124m(\u001b[39m\u001b[38;5;132;01m{\u001b[39;00m\u001b[38;5;28mtype\u001b[39m(value)\u001b[38;5;241m.\u001b[39m\u001b[38;5;18m__name__\u001b[39m\u001b[38;5;132;01m}\u001b[39;00m\u001b[38;5;124m of shape \u001b[39m\u001b[38;5;132;01m{\u001b[39;00m\u001b[38;5;28mtuple\u001b[39m(value\u001b[38;5;241m.\u001b[39mshape)\u001b[38;5;132;01m}\u001b[39;00m\u001b[38;5;124m) \u001b[39m\u001b[38;5;124m\"\u001b[39m\n\u001b[1;32m     71\u001b[0m                 \u001b[38;5;124mf\u001b[39m\u001b[38;5;124m\"\u001b[39m\u001b[38;5;124mof distribution \u001b[39m\u001b[38;5;132;01m{\u001b[39;00m\u001b[38;5;28mrepr\u001b[39m(\u001b[38;5;28mself\u001b[39m)\u001b[38;5;132;01m}\u001b[39;00m\u001b[38;5;124m \u001b[39m\u001b[38;5;124m\"\u001b[39m\n\u001b[1;32m     72\u001b[0m                 \u001b[38;5;124mf\u001b[39m\u001b[38;5;124m\"\u001b[39m\u001b[38;5;124mto satisfy the constraint \u001b[39m\u001b[38;5;132;01m{\u001b[39;00m\u001b[38;5;28mrepr\u001b[39m(constraint)\u001b[38;5;132;01m}\u001b[39;00m\u001b[38;5;124m, \u001b[39m\u001b[38;5;124m\"\u001b[39m\n\u001b[1;32m     73\u001b[0m                 \u001b[38;5;124mf\u001b[39m\u001b[38;5;124m\"\u001b[39m\u001b[38;5;124mbut found invalid values:\u001b[39m\u001b[38;5;130;01m\\n\u001b[39;00m\u001b[38;5;132;01m{\u001b[39;00mvalue\u001b[38;5;132;01m}\u001b[39;00m\u001b[38;5;124m\"\u001b[39m\n\u001b[1;32m     74\u001b[0m             )\n\u001b[1;32m     75\u001b[0m \u001b[38;5;28msuper\u001b[39m()\u001b[38;5;241m.\u001b[39m\u001b[38;5;21m__init__\u001b[39m()\n",
      "\u001b[0;31mValueError\u001b[0m: Expected parameter scale (Tensor of shape (10,)) of distribution Normal(loc: torch.Size([10]), scale: torch.Size([10])) to satisfy the constraint GreaterThan(lower_bound=0.0), but found invalid values:\ntensor([1.4142, 1.3333, 1.2472, 1.1547, 1.0541, 0.9428, 0.8165, 0.6667, 0.4714,\n        0.0000])"
     ]
    }
   ],
   "source": [
    "model.forward(x, q)"
   ]
  },
  {
   "cell_type": "code",
   "execution_count": 13,
   "id": "identified-bicycle",
   "metadata": {
    "scrolled": false
   },
   "outputs": [
    {
     "name": "stdout",
     "output_type": "stream",
     "text": [
      "tensor([[0.],\n",
      "        [0.]])\n",
      "tensor([[1., 0.],\n",
      "        [0., 1.]])\n",
      "tensor([[0.],\n",
      "        [0.]])\n",
      "tensor([0.])\n",
      "tensor(0.)\n",
      "tensor([[0.],\n",
      "        [0.],\n",
      "        [0.],\n",
      "        [0.],\n",
      "        [0.],\n",
      "        [0.],\n",
      "        [0.],\n",
      "        [0.],\n",
      "        [0.],\n",
      "        [0.]])\n",
      "tensor([1.4142, 1.3333, 1.2472, 1.1547, 1.0541, 0.9428, 0.8165, 0.6667, 0.4714,\n",
      "        0.0000])\n",
      "ppvar: torch.Size([10])\n"
     ]
    },
    {
     "ename": "ValueError",
     "evalue": "Expected parameter scale (Tensor of shape (10, 10)) of distribution Normal(loc: torch.Size([10, 10]), scale: torch.Size([10, 10])) to satisfy the constraint GreaterThan(lower_bound=0.0), but found invalid values:\ntensor([[1.4142, 1.3333, 1.2472, 1.1547, 1.0541, 0.9428, 0.8165, 0.6667, 0.4714,\n         0.0000],\n        [1.4142, 1.3333, 1.2472, 1.1547, 1.0541, 0.9428, 0.8165, 0.6667, 0.4714,\n         0.0000],\n        [1.4142, 1.3333, 1.2472, 1.1547, 1.0541, 0.9428, 0.8165, 0.6667, 0.4714,\n         0.0000],\n        [1.4142, 1.3333, 1.2472, 1.1547, 1.0541, 0.9428, 0.8165, 0.6667, 0.4714,\n         0.0000],\n        [1.4142, 1.3333, 1.2472, 1.1547, 1.0541, 0.9428, 0.8165, 0.6667, 0.4714,\n         0.0000],\n        [1.4142, 1.3333, 1.2472, 1.1547, 1.0541, 0.9428, 0.8165, 0.6667, 0.4714,\n         0.0000],\n        [1.4142, 1.3333, 1.2472, 1.1547, 1.0541, 0.9428, 0.8165, 0.6667, 0.4714,\n         0.0000],\n        [1.4142, 1.3333, 1.2472, 1.1547, 1.0541, 0.9428, 0.8165, 0.6667, 0.4714,\n         0.0000],\n        [1.4142, 1.3333, 1.2472, 1.1547, 1.0541, 0.9428, 0.8165, 0.6667, 0.4714,\n         0.0000],\n        [1.4142, 1.3333, 1.2472, 1.1547, 1.0541, 0.9428, 0.8165, 0.6667, 0.4714,\n         0.0000]])",
     "output_type": "error",
     "traceback": [
      "\u001b[0;31m---------------------------------------------------------------------------\u001b[0m",
      "\u001b[0;31mValueError\u001b[0m                                Traceback (most recent call last)",
      "Cell \u001b[0;32mIn[13], line 1\u001b[0m\n\u001b[0;32m----> 1\u001b[0m plot_results(x, y, model, q)\n",
      "Cell \u001b[0;32mIn[5], line 11\u001b[0m, in \u001b[0;36mplot_results\u001b[0;34m(x, y, model, q)\u001b[0m\n\u001b[1;32m     10\u001b[0m \u001b[38;5;28;01mdef\u001b[39;00m \u001b[38;5;21mplot_results\u001b[39m(x, y, model, q):\n\u001b[0;32m---> 11\u001b[0m     pp \u001b[38;5;241m=\u001b[39m model(x, q)\n\u001b[1;32m     12\u001b[0m     mean \u001b[38;5;241m=\u001b[39m pp\u001b[38;5;241m.\u001b[39mmean\u001b[38;5;241m.\u001b[39mdetach()\n\u001b[1;32m     13\u001b[0m     std \u001b[38;5;241m=\u001b[39m pp\u001b[38;5;241m.\u001b[39mvariance\u001b[38;5;241m.\u001b[39mdetach() \u001b[38;5;241m*\u001b[39m\u001b[38;5;241m*\u001b[39m \u001b[38;5;241m0.5\u001b[39m\n",
      "File \u001b[0;32m~/anaconda3/lib/python3.11/site-packages/torch/nn/modules/module.py:1518\u001b[0m, in \u001b[0;36mModule._wrapped_call_impl\u001b[0;34m(self, *args, **kwargs)\u001b[0m\n\u001b[1;32m   1516\u001b[0m     \u001b[38;5;28;01mreturn\u001b[39;00m \u001b[38;5;28mself\u001b[39m\u001b[38;5;241m.\u001b[39m_compiled_call_impl(\u001b[38;5;241m*\u001b[39margs, \u001b[38;5;241m*\u001b[39m\u001b[38;5;241m*\u001b[39mkwargs)  \u001b[38;5;66;03m# type: ignore[misc]\u001b[39;00m\n\u001b[1;32m   1517\u001b[0m \u001b[38;5;28;01melse\u001b[39;00m:\n\u001b[0;32m-> 1518\u001b[0m     \u001b[38;5;28;01mreturn\u001b[39;00m \u001b[38;5;28mself\u001b[39m\u001b[38;5;241m.\u001b[39m_call_impl(\u001b[38;5;241m*\u001b[39margs, \u001b[38;5;241m*\u001b[39m\u001b[38;5;241m*\u001b[39mkwargs)\n",
      "File \u001b[0;32m~/anaconda3/lib/python3.11/site-packages/torch/nn/modules/module.py:1527\u001b[0m, in \u001b[0;36mModule._call_impl\u001b[0;34m(self, *args, **kwargs)\u001b[0m\n\u001b[1;32m   1522\u001b[0m \u001b[38;5;66;03m# If we don't have any hooks, we want to skip the rest of the logic in\u001b[39;00m\n\u001b[1;32m   1523\u001b[0m \u001b[38;5;66;03m# this function, and just call forward.\u001b[39;00m\n\u001b[1;32m   1524\u001b[0m \u001b[38;5;28;01mif\u001b[39;00m \u001b[38;5;129;01mnot\u001b[39;00m (\u001b[38;5;28mself\u001b[39m\u001b[38;5;241m.\u001b[39m_backward_hooks \u001b[38;5;129;01mor\u001b[39;00m \u001b[38;5;28mself\u001b[39m\u001b[38;5;241m.\u001b[39m_backward_pre_hooks \u001b[38;5;129;01mor\u001b[39;00m \u001b[38;5;28mself\u001b[39m\u001b[38;5;241m.\u001b[39m_forward_hooks \u001b[38;5;129;01mor\u001b[39;00m \u001b[38;5;28mself\u001b[39m\u001b[38;5;241m.\u001b[39m_forward_pre_hooks\n\u001b[1;32m   1525\u001b[0m         \u001b[38;5;129;01mor\u001b[39;00m _global_backward_pre_hooks \u001b[38;5;129;01mor\u001b[39;00m _global_backward_hooks\n\u001b[1;32m   1526\u001b[0m         \u001b[38;5;129;01mor\u001b[39;00m _global_forward_hooks \u001b[38;5;129;01mor\u001b[39;00m _global_forward_pre_hooks):\n\u001b[0;32m-> 1527\u001b[0m     \u001b[38;5;28;01mreturn\u001b[39;00m forward_call(\u001b[38;5;241m*\u001b[39margs, \u001b[38;5;241m*\u001b[39m\u001b[38;5;241m*\u001b[39mkwargs)\n\u001b[1;32m   1529\u001b[0m \u001b[38;5;28;01mtry\u001b[39;00m:\n\u001b[1;32m   1530\u001b[0m     result \u001b[38;5;241m=\u001b[39m \u001b[38;5;28;01mNone\u001b[39;00m\n",
      "File \u001b[0;32m~/Desktop/PVI-main/pvi/models/linear_regression.py:118\u001b[0m, in \u001b[0;36mLinearRegressionModel.forward\u001b[0;34m(self, x, q, **kwargs)\u001b[0m\n\u001b[1;32m    116\u001b[0m \u001b[38;5;28mprint\u001b[39m(ppvar\u001b[38;5;241m*\u001b[39m\u001b[38;5;241m*\u001b[39m\u001b[38;5;241m0.5\u001b[39m)\n\u001b[1;32m    117\u001b[0m \u001b[38;5;28mprint\u001b[39m(np\u001b[38;5;241m.\u001b[39mshape(ppmu, ppvar))\n\u001b[0;32m--> 118\u001b[0m \u001b[38;5;28;01mreturn\u001b[39;00m distributions\u001b[38;5;241m.\u001b[39mnormal\u001b[38;5;241m.\u001b[39mNormal(ppmu, ppvar\u001b[38;5;241m*\u001b[39m\u001b[38;5;241m*\u001b[39m\u001b[38;5;241m0.5\u001b[39m)\n",
      "File \u001b[0;32m~/anaconda3/lib/python3.11/site-packages/torch/distributions/normal.py:56\u001b[0m, in \u001b[0;36mNormal.__init__\u001b[0;34m(self, loc, scale, validate_args)\u001b[0m\n\u001b[1;32m     54\u001b[0m \u001b[38;5;28;01melse\u001b[39;00m:\n\u001b[1;32m     55\u001b[0m     batch_shape \u001b[38;5;241m=\u001b[39m \u001b[38;5;28mself\u001b[39m\u001b[38;5;241m.\u001b[39mloc\u001b[38;5;241m.\u001b[39msize()\n\u001b[0;32m---> 56\u001b[0m \u001b[38;5;28msuper\u001b[39m()\u001b[38;5;241m.\u001b[39m\u001b[38;5;21m__init__\u001b[39m(batch_shape, validate_args\u001b[38;5;241m=\u001b[39mvalidate_args)\n",
      "File \u001b[0;32m~/anaconda3/lib/python3.11/site-packages/torch/distributions/distribution.py:68\u001b[0m, in \u001b[0;36mDistribution.__init__\u001b[0;34m(self, batch_shape, event_shape, validate_args)\u001b[0m\n\u001b[1;32m     66\u001b[0m         valid \u001b[38;5;241m=\u001b[39m constraint\u001b[38;5;241m.\u001b[39mcheck(value)\n\u001b[1;32m     67\u001b[0m         \u001b[38;5;28;01mif\u001b[39;00m \u001b[38;5;129;01mnot\u001b[39;00m valid\u001b[38;5;241m.\u001b[39mall():\n\u001b[0;32m---> 68\u001b[0m             \u001b[38;5;28;01mraise\u001b[39;00m \u001b[38;5;167;01mValueError\u001b[39;00m(\n\u001b[1;32m     69\u001b[0m                 \u001b[38;5;124mf\u001b[39m\u001b[38;5;124m\"\u001b[39m\u001b[38;5;124mExpected parameter \u001b[39m\u001b[38;5;132;01m{\u001b[39;00mparam\u001b[38;5;132;01m}\u001b[39;00m\u001b[38;5;124m \u001b[39m\u001b[38;5;124m\"\u001b[39m\n\u001b[1;32m     70\u001b[0m                 \u001b[38;5;124mf\u001b[39m\u001b[38;5;124m\"\u001b[39m\u001b[38;5;124m(\u001b[39m\u001b[38;5;132;01m{\u001b[39;00m\u001b[38;5;28mtype\u001b[39m(value)\u001b[38;5;241m.\u001b[39m\u001b[38;5;18m__name__\u001b[39m\u001b[38;5;132;01m}\u001b[39;00m\u001b[38;5;124m of shape \u001b[39m\u001b[38;5;132;01m{\u001b[39;00m\u001b[38;5;28mtuple\u001b[39m(value\u001b[38;5;241m.\u001b[39mshape)\u001b[38;5;132;01m}\u001b[39;00m\u001b[38;5;124m) \u001b[39m\u001b[38;5;124m\"\u001b[39m\n\u001b[1;32m     71\u001b[0m                 \u001b[38;5;124mf\u001b[39m\u001b[38;5;124m\"\u001b[39m\u001b[38;5;124mof distribution \u001b[39m\u001b[38;5;132;01m{\u001b[39;00m\u001b[38;5;28mrepr\u001b[39m(\u001b[38;5;28mself\u001b[39m)\u001b[38;5;132;01m}\u001b[39;00m\u001b[38;5;124m \u001b[39m\u001b[38;5;124m\"\u001b[39m\n\u001b[1;32m     72\u001b[0m                 \u001b[38;5;124mf\u001b[39m\u001b[38;5;124m\"\u001b[39m\u001b[38;5;124mto satisfy the constraint \u001b[39m\u001b[38;5;132;01m{\u001b[39;00m\u001b[38;5;28mrepr\u001b[39m(constraint)\u001b[38;5;132;01m}\u001b[39;00m\u001b[38;5;124m, \u001b[39m\u001b[38;5;124m\"\u001b[39m\n\u001b[1;32m     73\u001b[0m                 \u001b[38;5;124mf\u001b[39m\u001b[38;5;124m\"\u001b[39m\u001b[38;5;124mbut found invalid values:\u001b[39m\u001b[38;5;130;01m\\n\u001b[39;00m\u001b[38;5;132;01m{\u001b[39;00mvalue\u001b[38;5;132;01m}\u001b[39;00m\u001b[38;5;124m\"\u001b[39m\n\u001b[1;32m     74\u001b[0m             )\n\u001b[1;32m     75\u001b[0m \u001b[38;5;28msuper\u001b[39m()\u001b[38;5;241m.\u001b[39m\u001b[38;5;21m__init__\u001b[39m()\n",
      "\u001b[0;31mValueError\u001b[0m: Expected parameter scale (Tensor of shape (10, 10)) of distribution Normal(loc: torch.Size([10, 10]), scale: torch.Size([10, 10])) to satisfy the constraint GreaterThan(lower_bound=0.0), but found invalid values:\ntensor([[1.4142, 1.3333, 1.2472, 1.1547, 1.0541, 0.9428, 0.8165, 0.6667, 0.4714,\n         0.0000],\n        [1.4142, 1.3333, 1.2472, 1.1547, 1.0541, 0.9428, 0.8165, 0.6667, 0.4714,\n         0.0000],\n        [1.4142, 1.3333, 1.2472, 1.1547, 1.0541, 0.9428, 0.8165, 0.6667, 0.4714,\n         0.0000],\n        [1.4142, 1.3333, 1.2472, 1.1547, 1.0541, 0.9428, 0.8165, 0.6667, 0.4714,\n         0.0000],\n        [1.4142, 1.3333, 1.2472, 1.1547, 1.0541, 0.9428, 0.8165, 0.6667, 0.4714,\n         0.0000],\n        [1.4142, 1.3333, 1.2472, 1.1547, 1.0541, 0.9428, 0.8165, 0.6667, 0.4714,\n         0.0000],\n        [1.4142, 1.3333, 1.2472, 1.1547, 1.0541, 0.9428, 0.8165, 0.6667, 0.4714,\n         0.0000],\n        [1.4142, 1.3333, 1.2472, 1.1547, 1.0541, 0.9428, 0.8165, 0.6667, 0.4714,\n         0.0000],\n        [1.4142, 1.3333, 1.2472, 1.1547, 1.0541, 0.9428, 0.8165, 0.6667, 0.4714,\n         0.0000],\n        [1.4142, 1.3333, 1.2472, 1.1547, 1.0541, 0.9428, 0.8165, 0.6667, 0.4714,\n         0.0000]])"
     ]
    }
   ],
   "source": [
    "plot_results(x, y, model, q)"
   ]
  },
  {
   "cell_type": "markdown",
   "id": "chronic-beast",
   "metadata": {},
   "source": [
    "# Fit data"
   ]
  },
  {
   "cell_type": "code",
   "execution_count": 8,
   "id": "fundamental-testing",
   "metadata": {},
   "outputs": [],
   "source": [
    "t = MultivariateGaussianFactor(\n",
    "    nat_params={\n",
    "        \"np1\": torch.zeros(model.config[\"D\"]+1),\n",
    "        \"np2\": 0. * torch.eye(model.config[\"D\"]+1),\n",
    "    }\n",
    ")"
   ]
  },
  {
   "cell_type": "code",
   "execution_count": 9,
   "id": "hydraulic-prime",
   "metadata": {},
   "outputs": [],
   "source": [
    "client_config = {\n",
    "    \"epochs\": 1000,\n",
    "    \"optimiser\": \"Adam\",\n",
    "    \"optimiser_params\": {\"lr\": 1e-2},\n",
    "}\n",
    "\n",
    "\n",
    "# Construct client.\n",
    "client = Client(data=data, model=model, t=t, config=client_config)"
   ]
  },
  {
   "cell_type": "markdown",
   "id": "colored-pastor",
   "metadata": {},
   "source": [
    "## Without optimising model (hyper-)parameters"
   ]
  },
  {
   "cell_type": "code",
   "execution_count": 10,
   "id": "understood-design",
   "metadata": {},
   "outputs": [],
   "source": [
    "q_new, t_new = client.update_q(q)"
   ]
  },
  {
   "cell_type": "code",
   "execution_count": 11,
   "id": "dental-gambling",
   "metadata": {},
   "outputs": [
    {
     "data": {
      "text/plain": [
       "True"
      ]
     },
     "execution_count": 11,
     "metadata": {},
     "output_type": "execute_result"
    }
   ],
   "source": [
    "type(q_new) == client.model.conjugate_family"
   ]
  },
  {
   "cell_type": "code",
   "execution_count": 12,
   "id": "viral-pasta",
   "metadata": {},
   "outputs": [
    {
     "name": "stdout",
     "output_type": "stream",
     "text": [
      "tensor([[156.3358],\n",
      "        [ 59.2511]])\n",
      "tensor([[ 66.1852,   0.0000],\n",
      "        [  0.0000, 161.0000]])\n",
      "tensor([[2.3621],\n",
      "        [0.3680]])\n",
      "tensor([2.3621])\n",
      "tensor(2.3621)\n",
      "tensor([[-1.9941],\n",
      "        [-1.4692],\n",
      "        [-0.9443],\n",
      "        [-0.4193],\n",
      "        [ 0.1056],\n",
      "        [ 0.6305],\n",
      "        [ 1.1554],\n",
      "        [ 1.6803],\n",
      "        [ 2.2052],\n",
      "        [ 2.7301]])\n",
      "tensor([0.1460, 0.1340, 0.1209, 0.1061, 0.0888, 0.0673, 0.0343,    nan,    nan,\n",
      "           nan])\n"
     ]
    },
    {
     "ename": "ValueError",
     "evalue": "Expected parameter scale (Tensor of shape (10, 10)) of distribution Normal(loc: torch.Size([10, 10]), scale: torch.Size([10, 10])) to satisfy the constraint GreaterThan(lower_bound=0.0), but found invalid values:\ntensor([[0.1460, 0.1340, 0.1209, 0.1061, 0.0888, 0.0673, 0.0343,    nan,    nan,\n            nan],\n        [0.1460, 0.1340, 0.1209, 0.1061, 0.0888, 0.0673, 0.0343,    nan,    nan,\n            nan],\n        [0.1460, 0.1340, 0.1209, 0.1061, 0.0888, 0.0673, 0.0343,    nan,    nan,\n            nan],\n        [0.1460, 0.1340, 0.1209, 0.1061, 0.0888, 0.0673, 0.0343,    nan,    nan,\n            nan],\n        [0.1460, 0.1340, 0.1209, 0.1061, 0.0888, 0.0673, 0.0343,    nan,    nan,\n            nan],\n        [0.1460, 0.1340, 0.1209, 0.1061, 0.0888, 0.0673, 0.0343,    nan,    nan,\n            nan],\n        [0.1460, 0.1340, 0.1209, 0.1061, 0.0888, 0.0673, 0.0343,    nan,    nan,\n            nan],\n        [0.1460, 0.1340, 0.1209, 0.1061, 0.0888, 0.0673, 0.0343,    nan,    nan,\n            nan],\n        [0.1460, 0.1340, 0.1209, 0.1061, 0.0888, 0.0673, 0.0343,    nan,    nan,\n            nan],\n        [0.1460, 0.1340, 0.1209, 0.1061, 0.0888, 0.0673, 0.0343,    nan,    nan,\n            nan]])",
     "output_type": "error",
     "traceback": [
      "\u001b[0;31m---------------------------------------------------------------------------\u001b[0m",
      "\u001b[0;31mValueError\u001b[0m                                Traceback (most recent call last)",
      "Cell \u001b[0;32mIn[12], line 1\u001b[0m\n\u001b[0;32m----> 1\u001b[0m plot_results(x, y, client\u001b[38;5;241m.\u001b[39mmodel, q_new)\n",
      "Cell \u001b[0;32mIn[4], line 11\u001b[0m, in \u001b[0;36mplot_results\u001b[0;34m(x, y, model, q)\u001b[0m\n\u001b[1;32m     10\u001b[0m \u001b[38;5;28;01mdef\u001b[39;00m \u001b[38;5;21mplot_results\u001b[39m(x, y, model, q):\n\u001b[0;32m---> 11\u001b[0m     pp \u001b[38;5;241m=\u001b[39m model(x, q)\n\u001b[1;32m     12\u001b[0m     mean \u001b[38;5;241m=\u001b[39m pp\u001b[38;5;241m.\u001b[39mmean\u001b[38;5;241m.\u001b[39mdetach()\n\u001b[1;32m     13\u001b[0m     std \u001b[38;5;241m=\u001b[39m pp\u001b[38;5;241m.\u001b[39mvariance\u001b[38;5;241m.\u001b[39mdetach() \u001b[38;5;241m*\u001b[39m\u001b[38;5;241m*\u001b[39m \u001b[38;5;241m0.5\u001b[39m\n",
      "File \u001b[0;32m~/anaconda3/lib/python3.11/site-packages/torch/nn/modules/module.py:1518\u001b[0m, in \u001b[0;36mModule._wrapped_call_impl\u001b[0;34m(self, *args, **kwargs)\u001b[0m\n\u001b[1;32m   1516\u001b[0m     \u001b[38;5;28;01mreturn\u001b[39;00m \u001b[38;5;28mself\u001b[39m\u001b[38;5;241m.\u001b[39m_compiled_call_impl(\u001b[38;5;241m*\u001b[39margs, \u001b[38;5;241m*\u001b[39m\u001b[38;5;241m*\u001b[39mkwargs)  \u001b[38;5;66;03m# type: ignore[misc]\u001b[39;00m\n\u001b[1;32m   1517\u001b[0m \u001b[38;5;28;01melse\u001b[39;00m:\n\u001b[0;32m-> 1518\u001b[0m     \u001b[38;5;28;01mreturn\u001b[39;00m \u001b[38;5;28mself\u001b[39m\u001b[38;5;241m.\u001b[39m_call_impl(\u001b[38;5;241m*\u001b[39margs, \u001b[38;5;241m*\u001b[39m\u001b[38;5;241m*\u001b[39mkwargs)\n",
      "File \u001b[0;32m~/anaconda3/lib/python3.11/site-packages/torch/nn/modules/module.py:1527\u001b[0m, in \u001b[0;36mModule._call_impl\u001b[0;34m(self, *args, **kwargs)\u001b[0m\n\u001b[1;32m   1522\u001b[0m \u001b[38;5;66;03m# If we don't have any hooks, we want to skip the rest of the logic in\u001b[39;00m\n\u001b[1;32m   1523\u001b[0m \u001b[38;5;66;03m# this function, and just call forward.\u001b[39;00m\n\u001b[1;32m   1524\u001b[0m \u001b[38;5;28;01mif\u001b[39;00m \u001b[38;5;129;01mnot\u001b[39;00m (\u001b[38;5;28mself\u001b[39m\u001b[38;5;241m.\u001b[39m_backward_hooks \u001b[38;5;129;01mor\u001b[39;00m \u001b[38;5;28mself\u001b[39m\u001b[38;5;241m.\u001b[39m_backward_pre_hooks \u001b[38;5;129;01mor\u001b[39;00m \u001b[38;5;28mself\u001b[39m\u001b[38;5;241m.\u001b[39m_forward_hooks \u001b[38;5;129;01mor\u001b[39;00m \u001b[38;5;28mself\u001b[39m\u001b[38;5;241m.\u001b[39m_forward_pre_hooks\n\u001b[1;32m   1525\u001b[0m         \u001b[38;5;129;01mor\u001b[39;00m _global_backward_pre_hooks \u001b[38;5;129;01mor\u001b[39;00m _global_backward_hooks\n\u001b[1;32m   1526\u001b[0m         \u001b[38;5;129;01mor\u001b[39;00m _global_forward_hooks \u001b[38;5;129;01mor\u001b[39;00m _global_forward_pre_hooks):\n\u001b[0;32m-> 1527\u001b[0m     \u001b[38;5;28;01mreturn\u001b[39;00m forward_call(\u001b[38;5;241m*\u001b[39margs, \u001b[38;5;241m*\u001b[39m\u001b[38;5;241m*\u001b[39mkwargs)\n\u001b[1;32m   1529\u001b[0m \u001b[38;5;28;01mtry\u001b[39;00m:\n\u001b[1;32m   1530\u001b[0m     result \u001b[38;5;241m=\u001b[39m \u001b[38;5;28;01mNone\u001b[39;00m\n",
      "File \u001b[0;32m~/Desktop/PVI-main/pvi/models/linear_regression.py:117\u001b[0m, in \u001b[0;36mLinearRegressionModel.forward\u001b[0;34m(self, x, q, **kwargs)\u001b[0m\n\u001b[1;32m    114\u001b[0m ppvar \u001b[38;5;241m=\u001b[39m x_\u001b[38;5;241m.\u001b[39munsqueeze(\u001b[38;5;241m-\u001b[39m\u001b[38;5;241m2\u001b[39m)\u001b[38;5;241m.\u001b[39mmatmul(\n\u001b[1;32m    115\u001b[0m     torch\u001b[38;5;241m.\u001b[39mlinalg\u001b[38;5;241m.\u001b[39msolve(prec, x_\u001b[38;5;241m.\u001b[39munsqueeze(\u001b[38;5;241m-\u001b[39m\u001b[38;5;241m1\u001b[39m))[\u001b[38;5;241m0\u001b[39m])\u001b[38;5;241m.\u001b[39mreshape(\u001b[38;5;241m-\u001b[39m\u001b[38;5;241m1\u001b[39m)\n\u001b[1;32m    116\u001b[0m \u001b[38;5;28mprint\u001b[39m(ppvar\u001b[38;5;241m*\u001b[39m\u001b[38;5;241m*\u001b[39m\u001b[38;5;241m0.5\u001b[39m)\n\u001b[0;32m--> 117\u001b[0m \u001b[38;5;28;01mreturn\u001b[39;00m distributions\u001b[38;5;241m.\u001b[39mnormal\u001b[38;5;241m.\u001b[39mNormal(ppmu, ppvar\u001b[38;5;241m*\u001b[39m\u001b[38;5;241m*\u001b[39m\u001b[38;5;241m0.5\u001b[39m)\n",
      "File \u001b[0;32m~/anaconda3/lib/python3.11/site-packages/torch/distributions/normal.py:56\u001b[0m, in \u001b[0;36mNormal.__init__\u001b[0;34m(self, loc, scale, validate_args)\u001b[0m\n\u001b[1;32m     54\u001b[0m \u001b[38;5;28;01melse\u001b[39;00m:\n\u001b[1;32m     55\u001b[0m     batch_shape \u001b[38;5;241m=\u001b[39m \u001b[38;5;28mself\u001b[39m\u001b[38;5;241m.\u001b[39mloc\u001b[38;5;241m.\u001b[39msize()\n\u001b[0;32m---> 56\u001b[0m \u001b[38;5;28msuper\u001b[39m()\u001b[38;5;241m.\u001b[39m\u001b[38;5;21m__init__\u001b[39m(batch_shape, validate_args\u001b[38;5;241m=\u001b[39mvalidate_args)\n",
      "File \u001b[0;32m~/anaconda3/lib/python3.11/site-packages/torch/distributions/distribution.py:68\u001b[0m, in \u001b[0;36mDistribution.__init__\u001b[0;34m(self, batch_shape, event_shape, validate_args)\u001b[0m\n\u001b[1;32m     66\u001b[0m         valid \u001b[38;5;241m=\u001b[39m constraint\u001b[38;5;241m.\u001b[39mcheck(value)\n\u001b[1;32m     67\u001b[0m         \u001b[38;5;28;01mif\u001b[39;00m \u001b[38;5;129;01mnot\u001b[39;00m valid\u001b[38;5;241m.\u001b[39mall():\n\u001b[0;32m---> 68\u001b[0m             \u001b[38;5;28;01mraise\u001b[39;00m \u001b[38;5;167;01mValueError\u001b[39;00m(\n\u001b[1;32m     69\u001b[0m                 \u001b[38;5;124mf\u001b[39m\u001b[38;5;124m\"\u001b[39m\u001b[38;5;124mExpected parameter \u001b[39m\u001b[38;5;132;01m{\u001b[39;00mparam\u001b[38;5;132;01m}\u001b[39;00m\u001b[38;5;124m \u001b[39m\u001b[38;5;124m\"\u001b[39m\n\u001b[1;32m     70\u001b[0m                 \u001b[38;5;124mf\u001b[39m\u001b[38;5;124m\"\u001b[39m\u001b[38;5;124m(\u001b[39m\u001b[38;5;132;01m{\u001b[39;00m\u001b[38;5;28mtype\u001b[39m(value)\u001b[38;5;241m.\u001b[39m\u001b[38;5;18m__name__\u001b[39m\u001b[38;5;132;01m}\u001b[39;00m\u001b[38;5;124m of shape \u001b[39m\u001b[38;5;132;01m{\u001b[39;00m\u001b[38;5;28mtuple\u001b[39m(value\u001b[38;5;241m.\u001b[39mshape)\u001b[38;5;132;01m}\u001b[39;00m\u001b[38;5;124m) \u001b[39m\u001b[38;5;124m\"\u001b[39m\n\u001b[1;32m     71\u001b[0m                 \u001b[38;5;124mf\u001b[39m\u001b[38;5;124m\"\u001b[39m\u001b[38;5;124mof distribution \u001b[39m\u001b[38;5;132;01m{\u001b[39;00m\u001b[38;5;28mrepr\u001b[39m(\u001b[38;5;28mself\u001b[39m)\u001b[38;5;132;01m}\u001b[39;00m\u001b[38;5;124m \u001b[39m\u001b[38;5;124m\"\u001b[39m\n\u001b[1;32m     72\u001b[0m                 \u001b[38;5;124mf\u001b[39m\u001b[38;5;124m\"\u001b[39m\u001b[38;5;124mto satisfy the constraint \u001b[39m\u001b[38;5;132;01m{\u001b[39;00m\u001b[38;5;28mrepr\u001b[39m(constraint)\u001b[38;5;132;01m}\u001b[39;00m\u001b[38;5;124m, \u001b[39m\u001b[38;5;124m\"\u001b[39m\n\u001b[1;32m     73\u001b[0m                 \u001b[38;5;124mf\u001b[39m\u001b[38;5;124m\"\u001b[39m\u001b[38;5;124mbut found invalid values:\u001b[39m\u001b[38;5;130;01m\\n\u001b[39;00m\u001b[38;5;132;01m{\u001b[39;00mvalue\u001b[38;5;132;01m}\u001b[39;00m\u001b[38;5;124m\"\u001b[39m\n\u001b[1;32m     74\u001b[0m             )\n\u001b[1;32m     75\u001b[0m \u001b[38;5;28msuper\u001b[39m()\u001b[38;5;241m.\u001b[39m\u001b[38;5;21m__init__\u001b[39m()\n",
      "\u001b[0;31mValueError\u001b[0m: Expected parameter scale (Tensor of shape (10, 10)) of distribution Normal(loc: torch.Size([10, 10]), scale: torch.Size([10, 10])) to satisfy the constraint GreaterThan(lower_bound=0.0), but found invalid values:\ntensor([[0.1460, 0.1340, 0.1209, 0.1061, 0.0888, 0.0673, 0.0343,    nan,    nan,\n            nan],\n        [0.1460, 0.1340, 0.1209, 0.1061, 0.0888, 0.0673, 0.0343,    nan,    nan,\n            nan],\n        [0.1460, 0.1340, 0.1209, 0.1061, 0.0888, 0.0673, 0.0343,    nan,    nan,\n            nan],\n        [0.1460, 0.1340, 0.1209, 0.1061, 0.0888, 0.0673, 0.0343,    nan,    nan,\n            nan],\n        [0.1460, 0.1340, 0.1209, 0.1061, 0.0888, 0.0673, 0.0343,    nan,    nan,\n            nan],\n        [0.1460, 0.1340, 0.1209, 0.1061, 0.0888, 0.0673, 0.0343,    nan,    nan,\n            nan],\n        [0.1460, 0.1340, 0.1209, 0.1061, 0.0888, 0.0673, 0.0343,    nan,    nan,\n            nan],\n        [0.1460, 0.1340, 0.1209, 0.1061, 0.0888, 0.0673, 0.0343,    nan,    nan,\n            nan],\n        [0.1460, 0.1340, 0.1209, 0.1061, 0.0888, 0.0673, 0.0343,    nan,    nan,\n            nan],\n        [0.1460, 0.1340, 0.1209, 0.1061, 0.0888, 0.0673, 0.0343,    nan,    nan,\n            nan]])"
     ]
    }
   ],
   "source": [
    "plot_results(x, y, client.model, q_new)"
   ]
  },
  {
   "cell_type": "code",
   "execution_count": null,
   "id": "broad-matter",
   "metadata": {},
   "outputs": [],
   "source": []
  }
 ],
 "metadata": {
  "kernelspec": {
   "display_name": "Python 3 (ipykernel)",
   "language": "python",
   "name": "python3"
  },
  "language_info": {
   "codemirror_mode": {
    "name": "ipython",
    "version": 3
   },
   "file_extension": ".py",
   "mimetype": "text/x-python",
   "name": "python",
   "nbconvert_exporter": "python",
   "pygments_lexer": "ipython3",
   "version": "3.11.4"
  }
 },
 "nbformat": 4,
 "nbformat_minor": 5
}
